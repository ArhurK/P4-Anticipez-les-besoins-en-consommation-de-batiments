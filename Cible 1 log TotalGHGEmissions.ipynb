{
 "cells": [
  {
   "cell_type": "code",
   "execution_count": 1,
   "metadata": {},
   "outputs": [],
   "source": [
    "import pandas as pd\n",
    "import numpy as np\n",
    "import matplotlib.pyplot as plt "
   ]
  },
  {
   "cell_type": "code",
   "execution_count": 2,
   "metadata": {
    "scrolled": true
   },
   "outputs": [
    {
     "data": {
      "text/html": [
       "<div>\n",
       "<style scoped>\n",
       "    .dataframe tbody tr th:only-of-type {\n",
       "        vertical-align: middle;\n",
       "    }\n",
       "\n",
       "    .dataframe tbody tr th {\n",
       "        vertical-align: top;\n",
       "    }\n",
       "\n",
       "    .dataframe thead th {\n",
       "        text-align: right;\n",
       "    }\n",
       "</style>\n",
       "<table border=\"1\" class=\"dataframe\">\n",
       "  <thead>\n",
       "    <tr style=\"text-align: right;\">\n",
       "      <th></th>\n",
       "      <th>OSEBuildingID</th>\n",
       "      <th>Latitude</th>\n",
       "      <th>Longitude</th>\n",
       "      <th>YearBuilt</th>\n",
       "      <th>NumberofBuildings</th>\n",
       "      <th>NumberofFloors</th>\n",
       "      <th>per_gfa_parking</th>\n",
       "      <th>per_gfa_bulding</th>\n",
       "      <th>site_per_electricity</th>\n",
       "      <th>site_per_steam</th>\n",
       "      <th>...</th>\n",
       "      <th>Pre-school/Daycare</th>\n",
       "      <th>Refrigerated Warehouse</th>\n",
       "      <th>Repair Services (Vehicle, Shoe, Locksmith, etc)</th>\n",
       "      <th>Restaurant</th>\n",
       "      <th>Retail Store</th>\n",
       "      <th>Self-Storage Facility</th>\n",
       "      <th>Social/Meeting Hall</th>\n",
       "      <th>Supermarket/Grocery Store</th>\n",
       "      <th>Swimming Pool</th>\n",
       "      <th>Worship Facility</th>\n",
       "    </tr>\n",
       "  </thead>\n",
       "  <tbody>\n",
       "    <tr>\n",
       "      <th>0</th>\n",
       "      <td>1</td>\n",
       "      <td>47.61220</td>\n",
       "      <td>-122.33799</td>\n",
       "      <td>1927</td>\n",
       "      <td>1.0</td>\n",
       "      <td>12</td>\n",
       "      <td>0.000000</td>\n",
       "      <td>1.000000</td>\n",
       "      <td>0.546060</td>\n",
       "      <td>0.277302</td>\n",
       "      <td>...</td>\n",
       "      <td>0.000000</td>\n",
       "      <td>0.0</td>\n",
       "      <td>0.0</td>\n",
       "      <td>0.000000</td>\n",
       "      <td>0.0</td>\n",
       "      <td>0.0</td>\n",
       "      <td>0.0</td>\n",
       "      <td>0.0</td>\n",
       "      <td>0.0</td>\n",
       "      <td>0.0</td>\n",
       "    </tr>\n",
       "    <tr>\n",
       "      <th>1</th>\n",
       "      <td>2</td>\n",
       "      <td>47.61317</td>\n",
       "      <td>-122.33393</td>\n",
       "      <td>1996</td>\n",
       "      <td>1.0</td>\n",
       "      <td>11</td>\n",
       "      <td>0.145453</td>\n",
       "      <td>0.854547</td>\n",
       "      <td>0.386609</td>\n",
       "      <td>0.000000</td>\n",
       "      <td>...</td>\n",
       "      <td>0.000000</td>\n",
       "      <td>0.0</td>\n",
       "      <td>0.0</td>\n",
       "      <td>0.044629</td>\n",
       "      <td>0.0</td>\n",
       "      <td>0.0</td>\n",
       "      <td>0.0</td>\n",
       "      <td>0.0</td>\n",
       "      <td>0.0</td>\n",
       "      <td>0.0</td>\n",
       "    </tr>\n",
       "    <tr>\n",
       "      <th>2</th>\n",
       "      <td>3</td>\n",
       "      <td>47.61393</td>\n",
       "      <td>-122.33810</td>\n",
       "      <td>1969</td>\n",
       "      <td>1.0</td>\n",
       "      <td>41</td>\n",
       "      <td>0.205748</td>\n",
       "      <td>0.794252</td>\n",
       "      <td>0.682307</td>\n",
       "      <td>0.297113</td>\n",
       "      <td>...</td>\n",
       "      <td>0.000000</td>\n",
       "      <td>0.0</td>\n",
       "      <td>0.0</td>\n",
       "      <td>0.000000</td>\n",
       "      <td>0.0</td>\n",
       "      <td>0.0</td>\n",
       "      <td>0.0</td>\n",
       "      <td>0.0</td>\n",
       "      <td>0.0</td>\n",
       "      <td>0.0</td>\n",
       "    </tr>\n",
       "    <tr>\n",
       "      <th>3</th>\n",
       "      <td>5</td>\n",
       "      <td>47.61412</td>\n",
       "      <td>-122.33664</td>\n",
       "      <td>1926</td>\n",
       "      <td>1.0</td>\n",
       "      <td>10</td>\n",
       "      <td>0.000000</td>\n",
       "      <td>1.000000</td>\n",
       "      <td>0.407519</td>\n",
       "      <td>0.325913</td>\n",
       "      <td>...</td>\n",
       "      <td>0.000000</td>\n",
       "      <td>0.0</td>\n",
       "      <td>0.0</td>\n",
       "      <td>0.000000</td>\n",
       "      <td>0.0</td>\n",
       "      <td>0.0</td>\n",
       "      <td>0.0</td>\n",
       "      <td>0.0</td>\n",
       "      <td>0.0</td>\n",
       "      <td>0.0</td>\n",
       "    </tr>\n",
       "    <tr>\n",
       "      <th>4</th>\n",
       "      <td>8</td>\n",
       "      <td>47.61375</td>\n",
       "      <td>-122.34047</td>\n",
       "      <td>1980</td>\n",
       "      <td>1.0</td>\n",
       "      <td>18</td>\n",
       "      <td>0.353115</td>\n",
       "      <td>0.646885</td>\n",
       "      <td>0.378802</td>\n",
       "      <td>0.000000</td>\n",
       "      <td>...</td>\n",
       "      <td>0.000000</td>\n",
       "      <td>0.0</td>\n",
       "      <td>0.0</td>\n",
       "      <td>0.000000</td>\n",
       "      <td>0.0</td>\n",
       "      <td>0.0</td>\n",
       "      <td>0.0</td>\n",
       "      <td>0.0</td>\n",
       "      <td>0.0</td>\n",
       "      <td>0.0</td>\n",
       "    </tr>\n",
       "    <tr>\n",
       "      <th>...</th>\n",
       "      <td>...</td>\n",
       "      <td>...</td>\n",
       "      <td>...</td>\n",
       "      <td>...</td>\n",
       "      <td>...</td>\n",
       "      <td>...</td>\n",
       "      <td>...</td>\n",
       "      <td>...</td>\n",
       "      <td>...</td>\n",
       "      <td>...</td>\n",
       "      <td>...</td>\n",
       "      <td>...</td>\n",
       "      <td>...</td>\n",
       "      <td>...</td>\n",
       "      <td>...</td>\n",
       "      <td>...</td>\n",
       "      <td>...</td>\n",
       "      <td>...</td>\n",
       "      <td>...</td>\n",
       "      <td>...</td>\n",
       "      <td>...</td>\n",
       "    </tr>\n",
       "    <tr>\n",
       "      <th>1478</th>\n",
       "      <td>50221</td>\n",
       "      <td>47.54067</td>\n",
       "      <td>-122.37441</td>\n",
       "      <td>1982</td>\n",
       "      <td>1.0</td>\n",
       "      <td>1</td>\n",
       "      <td>0.000000</td>\n",
       "      <td>1.000000</td>\n",
       "      <td>0.678440</td>\n",
       "      <td>0.000000</td>\n",
       "      <td>...</td>\n",
       "      <td>0.000000</td>\n",
       "      <td>0.0</td>\n",
       "      <td>0.0</td>\n",
       "      <td>0.000000</td>\n",
       "      <td>0.0</td>\n",
       "      <td>0.0</td>\n",
       "      <td>0.0</td>\n",
       "      <td>0.0</td>\n",
       "      <td>0.0</td>\n",
       "      <td>0.0</td>\n",
       "    </tr>\n",
       "    <tr>\n",
       "      <th>1479</th>\n",
       "      <td>50223</td>\n",
       "      <td>47.59625</td>\n",
       "      <td>-122.32283</td>\n",
       "      <td>2004</td>\n",
       "      <td>1.0</td>\n",
       "      <td>1</td>\n",
       "      <td>0.000000</td>\n",
       "      <td>1.000000</td>\n",
       "      <td>0.417296</td>\n",
       "      <td>0.000000</td>\n",
       "      <td>...</td>\n",
       "      <td>0.000000</td>\n",
       "      <td>0.0</td>\n",
       "      <td>0.0</td>\n",
       "      <td>0.000000</td>\n",
       "      <td>0.0</td>\n",
       "      <td>0.0</td>\n",
       "      <td>0.0</td>\n",
       "      <td>0.0</td>\n",
       "      <td>0.0</td>\n",
       "      <td>0.0</td>\n",
       "    </tr>\n",
       "    <tr>\n",
       "      <th>1480</th>\n",
       "      <td>50224</td>\n",
       "      <td>47.63644</td>\n",
       "      <td>-122.35784</td>\n",
       "      <td>1974</td>\n",
       "      <td>1.0</td>\n",
       "      <td>1</td>\n",
       "      <td>0.000000</td>\n",
       "      <td>1.000000</td>\n",
       "      <td>0.310820</td>\n",
       "      <td>0.000000</td>\n",
       "      <td>...</td>\n",
       "      <td>0.000000</td>\n",
       "      <td>0.0</td>\n",
       "      <td>0.0</td>\n",
       "      <td>0.000000</td>\n",
       "      <td>0.0</td>\n",
       "      <td>0.0</td>\n",
       "      <td>0.0</td>\n",
       "      <td>0.0</td>\n",
       "      <td>0.0</td>\n",
       "      <td>0.0</td>\n",
       "    </tr>\n",
       "    <tr>\n",
       "      <th>1481</th>\n",
       "      <td>50225</td>\n",
       "      <td>47.52832</td>\n",
       "      <td>-122.32431</td>\n",
       "      <td>1989</td>\n",
       "      <td>1.0</td>\n",
       "      <td>1</td>\n",
       "      <td>0.000000</td>\n",
       "      <td>1.000000</td>\n",
       "      <td>0.484898</td>\n",
       "      <td>0.000000</td>\n",
       "      <td>...</td>\n",
       "      <td>0.034324</td>\n",
       "      <td>0.0</td>\n",
       "      <td>0.0</td>\n",
       "      <td>0.000000</td>\n",
       "      <td>0.0</td>\n",
       "      <td>0.0</td>\n",
       "      <td>0.0</td>\n",
       "      <td>0.0</td>\n",
       "      <td>0.0</td>\n",
       "      <td>0.0</td>\n",
       "    </tr>\n",
       "    <tr>\n",
       "      <th>1482</th>\n",
       "      <td>50226</td>\n",
       "      <td>47.53939</td>\n",
       "      <td>-122.29536</td>\n",
       "      <td>1938</td>\n",
       "      <td>1.0</td>\n",
       "      <td>1</td>\n",
       "      <td>0.000000</td>\n",
       "      <td>1.000000</td>\n",
       "      <td>0.375189</td>\n",
       "      <td>0.000000</td>\n",
       "      <td>...</td>\n",
       "      <td>0.060686</td>\n",
       "      <td>0.0</td>\n",
       "      <td>0.0</td>\n",
       "      <td>0.000000</td>\n",
       "      <td>0.0</td>\n",
       "      <td>0.0</td>\n",
       "      <td>0.0</td>\n",
       "      <td>0.0</td>\n",
       "      <td>0.0</td>\n",
       "      <td>0.0</td>\n",
       "    </tr>\n",
       "  </tbody>\n",
       "</table>\n",
       "<p>1479 rows × 42 columns</p>\n",
       "</div>"
      ],
      "text/plain": [
       "      OSEBuildingID  Latitude  Longitude  YearBuilt  NumberofBuildings  \\\n",
       "0                 1  47.61220 -122.33799       1927                1.0   \n",
       "1                 2  47.61317 -122.33393       1996                1.0   \n",
       "2                 3  47.61393 -122.33810       1969                1.0   \n",
       "3                 5  47.61412 -122.33664       1926                1.0   \n",
       "4                 8  47.61375 -122.34047       1980                1.0   \n",
       "...             ...       ...        ...        ...                ...   \n",
       "1478          50221  47.54067 -122.37441       1982                1.0   \n",
       "1479          50223  47.59625 -122.32283       2004                1.0   \n",
       "1480          50224  47.63644 -122.35784       1974                1.0   \n",
       "1481          50225  47.52832 -122.32431       1989                1.0   \n",
       "1482          50226  47.53939 -122.29536       1938                1.0   \n",
       "\n",
       "      NumberofFloors  per_gfa_parking  per_gfa_bulding  site_per_electricity  \\\n",
       "0                 12         0.000000         1.000000              0.546060   \n",
       "1                 11         0.145453         0.854547              0.386609   \n",
       "2                 41         0.205748         0.794252              0.682307   \n",
       "3                 10         0.000000         1.000000              0.407519   \n",
       "4                 18         0.353115         0.646885              0.378802   \n",
       "...              ...              ...              ...                   ...   \n",
       "1478               1         0.000000         1.000000              0.678440   \n",
       "1479               1         0.000000         1.000000              0.417296   \n",
       "1480               1         0.000000         1.000000              0.310820   \n",
       "1481               1         0.000000         1.000000              0.484898   \n",
       "1482               1         0.000000         1.000000              0.375189   \n",
       "\n",
       "      site_per_steam  ...  Pre-school/Daycare  Refrigerated Warehouse  \\\n",
       "0           0.277302  ...            0.000000                     0.0   \n",
       "1           0.000000  ...            0.000000                     0.0   \n",
       "2           0.297113  ...            0.000000                     0.0   \n",
       "3           0.325913  ...            0.000000                     0.0   \n",
       "4           0.000000  ...            0.000000                     0.0   \n",
       "...              ...  ...                 ...                     ...   \n",
       "1478        0.000000  ...            0.000000                     0.0   \n",
       "1479        0.000000  ...            0.000000                     0.0   \n",
       "1480        0.000000  ...            0.000000                     0.0   \n",
       "1481        0.000000  ...            0.034324                     0.0   \n",
       "1482        0.000000  ...            0.060686                     0.0   \n",
       "\n",
       "      Repair Services (Vehicle, Shoe, Locksmith, etc)  Restaurant  \\\n",
       "0                                                 0.0    0.000000   \n",
       "1                                                 0.0    0.044629   \n",
       "2                                                 0.0    0.000000   \n",
       "3                                                 0.0    0.000000   \n",
       "4                                                 0.0    0.000000   \n",
       "...                                               ...         ...   \n",
       "1478                                              0.0    0.000000   \n",
       "1479                                              0.0    0.000000   \n",
       "1480                                              0.0    0.000000   \n",
       "1481                                              0.0    0.000000   \n",
       "1482                                              0.0    0.000000   \n",
       "\n",
       "      Retail Store  Self-Storage Facility  Social/Meeting Hall  \\\n",
       "0              0.0                    0.0                  0.0   \n",
       "1              0.0                    0.0                  0.0   \n",
       "2              0.0                    0.0                  0.0   \n",
       "3              0.0                    0.0                  0.0   \n",
       "4              0.0                    0.0                  0.0   \n",
       "...            ...                    ...                  ...   \n",
       "1478           0.0                    0.0                  0.0   \n",
       "1479           0.0                    0.0                  0.0   \n",
       "1480           0.0                    0.0                  0.0   \n",
       "1481           0.0                    0.0                  0.0   \n",
       "1482           0.0                    0.0                  0.0   \n",
       "\n",
       "      Supermarket/Grocery Store  Swimming Pool  Worship Facility  \n",
       "0                           0.0            0.0               0.0  \n",
       "1                           0.0            0.0               0.0  \n",
       "2                           0.0            0.0               0.0  \n",
       "3                           0.0            0.0               0.0  \n",
       "4                           0.0            0.0               0.0  \n",
       "...                         ...            ...               ...  \n",
       "1478                        0.0            0.0               0.0  \n",
       "1479                        0.0            0.0               0.0  \n",
       "1480                        0.0            0.0               0.0  \n",
       "1481                        0.0            0.0               0.0  \n",
       "1482                        0.0            0.0               0.0  \n",
       "\n",
       "[1479 rows x 42 columns]"
      ]
     },
     "execution_count": 2,
     "metadata": {},
     "output_type": "execute_result"
    }
   ],
   "source": [
    "db = pd.read_parquet('db_P4.parquet.gzip')\n",
    "db = db.drop(columns='log_SiteEnergyUseWN(kBtu)') # On supprime la cible 2 pour éviter toute confusion\n",
    "db"
   ]
  },
  {
   "cell_type": "code",
   "execution_count": 3,
   "metadata": {},
   "outputs": [
    {
     "data": {
      "text/plain": [
       "Index(['OSEBuildingID', 'Latitude', 'Longitude', 'YearBuilt',\n",
       "       'NumberofBuildings', 'NumberofFloors', 'per_gfa_parking',\n",
       "       'per_gfa_bulding', 'site_per_electricity', 'site_per_steam',\n",
       "       'site_per_gaz', 'log_TotalGHGEmissions', 'Bank Branch',\n",
       "       'College/University', 'Data Center', 'Distribution Center',\n",
       "       'Fitness Center/Health Club/Gym', 'Food Service',\n",
       "       'Hospital (General Medical & Surgical)', 'Hotel', 'K-12 School',\n",
       "       'Laboratory', 'Manufacturing/Industrial Plant', 'Medical Office',\n",
       "       'Multifamily Housing', 'Non-Refrigerated Warehouse', 'Office', 'Other',\n",
       "       'Other - Entertainment/Public Assembly', 'Other - Recreation',\n",
       "       'Other - Services', 'Parking', 'Pre-school/Daycare',\n",
       "       'Refrigerated Warehouse',\n",
       "       'Repair Services (Vehicle, Shoe, Locksmith, etc)', 'Restaurant',\n",
       "       'Retail Store', 'Self-Storage Facility', 'Social/Meeting Hall',\n",
       "       'Supermarket/Grocery Store', 'Swimming Pool', 'Worship Facility'],\n",
       "      dtype='object')"
      ]
     },
     "execution_count": 3,
     "metadata": {},
     "output_type": "execute_result"
    }
   ],
   "source": [
    "db.columns"
   ]
  },
  {
   "cell_type": "markdown",
   "metadata": {},
   "source": [
    "Ce qu'il reste à faire \n",
    "\n",
    "\n",
    "- Faire un KFold avec 5 splits, et en fixant random_state\n",
    "\n",
    "- faire des modèles : linearRegression randomforest, xgboost, lightgbm, pourquoi pas un autre ? réseau de neurone ou SVM\n",
    "\n",
    "\n",
    "- faire une première validation croisée sans chercher à optimiser les hyperparamètres\n",
    "\n",
    "- faire une validation croisée avec les meilleurs hyperparamètres\n",
    "\n",
    "- comparer les modèles selon le r2, rmse"
   ]
  },
  {
   "cell_type": "markdown",
   "metadata": {},
   "source": [
    "# Variables prédictives X & Cible y "
   ]
  },
  {
   "cell_type": "code",
   "execution_count": 4,
   "metadata": {},
   "outputs": [],
   "source": [
    "from sklearn.model_selection import train_test_split\n",
    "from sklearn.linear_model import LinearRegression\n",
    "from sklearn.model_selection import cross_val_score"
   ]
  },
  {
   "cell_type": "code",
   "execution_count": 5,
   "metadata": {},
   "outputs": [
    {
     "data": {
      "text/plain": [
       "array([[  47.6122 , -122.33799, 1927.     , ...,    0.     ,    0.     ,\n",
       "           0.     ],\n",
       "       [  47.61317, -122.33393, 1996.     , ...,    0.     ,    0.     ,\n",
       "           0.     ],\n",
       "       [  47.61393, -122.3381 , 1969.     , ...,    0.     ,    0.     ,\n",
       "           0.     ],\n",
       "       ...,\n",
       "       [  47.63644, -122.35784, 1974.     , ...,    0.     ,    0.     ,\n",
       "           0.     ],\n",
       "       [  47.52832, -122.32431, 1989.     , ...,    0.     ,    0.     ,\n",
       "           0.     ],\n",
       "       [  47.53939, -122.29536, 1938.     , ...,    0.     ,    0.     ,\n",
       "           0.     ]])"
      ]
     },
     "execution_count": 5,
     "metadata": {},
     "output_type": "execute_result"
    }
   ],
   "source": [
    "X = db.drop(columns=['log_TotalGHGEmissions','OSEBuildingID']).copy()\n",
    "X = np.array(X)\n",
    "X"
   ]
  },
  {
   "cell_type": "code",
   "execution_count": 6,
   "metadata": {
    "scrolled": true
   },
   "outputs": [
    {
     "data": {
      "text/plain": [
       "array([5.52138091, 5.68988637, 7.64457479, ..., 5.40959037, 3.09602999,\n",
       "       3.72013584])"
      ]
     },
     "execution_count": 6,
     "metadata": {},
     "output_type": "execute_result"
    }
   ],
   "source": [
    "y = db['log_TotalGHGEmissions'].copy()\n",
    "y = np.array(y)\n",
    "y"
   ]
  },
  {
   "cell_type": "markdown",
   "metadata": {},
   "source": [
    "# Train & Test Split"
   ]
  },
  {
   "cell_type": "code",
   "execution_count": 7,
   "metadata": {},
   "outputs": [],
   "source": [
    "X_train, X_test, y_train, y_test = train_test_split(X, y, test_size=0.2 , random_state = 2023)"
   ]
  },
  {
   "cell_type": "markdown",
   "metadata": {},
   "source": [
    "# Modèle "
   ]
  },
  {
   "cell_type": "code",
   "execution_count": 8,
   "metadata": {},
   "outputs": [],
   "source": [
    "reg = LinearRegression(normalize=True).fit(X_train, y_train) # Régression linéaire"
   ]
  },
  {
   "cell_type": "code",
   "execution_count": 9,
   "metadata": {
    "scrolled": true
   },
   "outputs": [
    {
     "data": {
      "text/plain": [
       "0.5750602724288996"
      ]
     },
     "execution_count": 9,
     "metadata": {},
     "output_type": "execute_result"
    }
   ],
   "source": [
    "reg.score(X, y) # R2"
   ]
  },
  {
   "cell_type": "code",
   "execution_count": 10,
   "metadata": {},
   "outputs": [],
   "source": [
    "y_pred = reg.predict(X_test) # Prédiction sur X_test"
   ]
  },
  {
   "cell_type": "code",
   "execution_count": 11,
   "metadata": {},
   "outputs": [],
   "source": [
    "from sklearn.metrics import mean_squared_error\n",
    "from sklearn.metrics import r2_score"
   ]
  },
  {
   "cell_type": "code",
   "execution_count": 12,
   "metadata": {
    "scrolled": true
   },
   "outputs": [
    {
     "name": "stdout",
     "output_type": "stream",
     "text": [
      "Coefficients: \n",
      " [-1.31579486e+00  2.23609250e+00  5.91228645e-03  1.48974171e-01\n",
      "  6.44612765e-02  8.67044767e+11  8.67044767e+11  3.88894610e-01\n",
      "  5.43199853e+00  3.52772188e+00 -7.10665887e-01  7.23385384e-01\n",
      "  9.19990831e+00 -4.75504806e-01 -2.74439409e-01 -1.43244215e+00\n",
      "  2.01828558e+00  5.19198512e-01  1.77812471e-02  2.16122518e+00\n",
      "  1.77878717e-02  8.40732458e-01 -1.52298873e-01 -4.09696886e-01\n",
      "  3.37760761e-01  5.55000719e-01  2.89683152e-01  5.94926782e-01\n",
      "  8.63016653e-01  5.89923403e-01 -3.89628244e-01  5.28284695e-01\n",
      " -1.68379239e-01  9.14960930e-01  5.04896727e-01 -1.06114355e+00\n",
      " -3.02643758e-01  1.72592097e+00  0.00000000e+00 -1.02657475e+00]\n",
      "Mean squared error: 1.13\n",
      "Coefficient of determination: 0.47\n"
     ]
    }
   ],
   "source": [
    "# The coefficients\n",
    "print(\"Coefficients: \\n\", reg.coef_)\n",
    "# The mean squared error\n",
    "print(\"Mean squared error: %.2f\" % mean_squared_error(y_test, y_pred))\n",
    "# The coefficient of determination: 1 is perfect prediction\n",
    "print(\"Coefficient of determination: %.2f\" % r2_score(y_test, y_pred))"
   ]
  },
  {
   "cell_type": "markdown",
   "metadata": {},
   "source": [
    "# Cross validation"
   ]
  },
  {
   "cell_type": "code",
   "execution_count": 13,
   "metadata": {
    "scrolled": true
   },
   "outputs": [
    {
     "data": {
      "text/plain": [
       "array([0.3321599 , 0.46996187, 0.51859796, 0.52340984, 0.52167304])"
      ]
     },
     "execution_count": 13,
     "metadata": {},
     "output_type": "execute_result"
    }
   ],
   "source": [
    "cross_val_score(LinearRegression(),X_train,y_train,cv=5)#,scoring='r2')"
   ]
  },
  {
   "cell_type": "code",
   "execution_count": 14,
   "metadata": {},
   "outputs": [],
   "source": [
    "from sklearn.model_selection import KFold"
   ]
  },
  {
   "cell_type": "code",
   "execution_count": 15,
   "metadata": {},
   "outputs": [
    {
     "name": "stdout",
     "output_type": "stream",
     "text": [
      "[0.54784005 0.58280695 0.49225154 0.01848659 0.56321598]\n",
      "Mean: 0.44092022172627504\n",
      "Std: 0.21335652240578026\n"
     ]
    }
   ],
   "source": [
    "# Create 5 folds\n",
    "seed = 7\n",
    "kfold = KFold(n_splits=5, shuffle=True, random_state=seed)\n",
    "\n",
    "# Create a model \n",
    "model = LinearRegression()\n",
    "\n",
    "# Train and evaluate multiple models using kfolds\n",
    "results = cross_val_score(model, X, y, cv=kfold, scoring='r2')\n",
    "print(results)\n",
    "print(\"Mean:\", results.mean())\n",
    "print(\"Std:\", results.std())"
   ]
  },
  {
   "cell_type": "code",
   "execution_count": 16,
   "metadata": {},
   "outputs": [],
   "source": [
    "########################"
   ]
  },
  {
   "cell_type": "code",
   "execution_count": null,
   "metadata": {},
   "outputs": [],
   "source": []
  },
  {
   "cell_type": "code",
   "execution_count": 17,
   "metadata": {},
   "outputs": [
    {
     "name": "stdout",
     "output_type": "stream",
     "text": [
      "1.0220306136287505 0.28837970443069705\n"
     ]
    }
   ],
   "source": [
    "seed = 7\n",
    "kfold = KFold(n_splits=5, shuffle=True, random_state=seed).split(X_train)\n",
    "\n",
    "list_pred = []\n",
    "list_val = []\n",
    "\n",
    "for train, test in kfold:\n",
    "    list_pred.append(LinearRegression().fit(X_train[train],y_train[train]).predict(X_train[test]))\n",
    "    list_val.append(y_train[test])\n",
    "    \n",
    "list_pred = np.concatenate(list_pred)\n",
    "list_val = np.concatenate(list_val)\n",
    "\n",
    "print(\n",
    "    mean_squared_error(list_pred,list_val),\n",
    "    r2_score(list_pred,list_val))"
   ]
  },
  {
   "cell_type": "code",
   "execution_count": 18,
   "metadata": {},
   "outputs": [
    {
     "name": "stdout",
     "output_type": "stream",
     "text": [
      "1.1326884159450255 0.3052028726338353\n"
     ]
    }
   ],
   "source": [
    "pred = LinearRegression().fit(X_train,y_train).predict(X_test)\n",
    "print(\n",
    "    mean_squared_error(pred,y_test),\n",
    "    r2_score(pred,y_test))"
   ]
  },
  {
   "cell_type": "markdown",
   "metadata": {},
   "source": [
    "# RF "
   ]
  },
  {
   "cell_type": "code",
   "execution_count": 19,
   "metadata": {},
   "outputs": [],
   "source": [
    "from sklearn.ensemble import RandomForestRegressor"
   ]
  },
  {
   "cell_type": "code",
   "execution_count": 20,
   "metadata": {},
   "outputs": [
    {
     "name": "stdout",
     "output_type": "stream",
     "text": [
      "0.771434758904655 0.4345799993753423\n"
     ]
    }
   ],
   "source": [
    "seed = 7\n",
    "kfold = KFold(n_splits=5, shuffle=True, random_state=seed).split(X_train)\n",
    "\n",
    "list_pred = []\n",
    "list_val = []\n",
    "\n",
    "for train, test in kfold:\n",
    "    list_pred.append(RandomForestRegressor().fit(X_train[train],y_train[train]).predict(X_train[test]))\n",
    "    list_val.append(y_train[test])\n",
    "    \n",
    "list_pred = np.concatenate(list_pred)\n",
    "list_val = np.concatenate(list_val)\n",
    "\n",
    "print(\n",
    "    mean_squared_error(list_pred,list_val),\n",
    "    r2_score(list_pred,list_val))"
   ]
  },
  {
   "cell_type": "code",
   "execution_count": 21,
   "metadata": {},
   "outputs": [],
   "source": [
    "import seaborn as sns\n"
   ]
  },
  {
   "cell_type": "code",
   "execution_count": 22,
   "metadata": {},
   "outputs": [
    {
     "data": {
      "text/plain": [
       "<AxesSubplot:>"
      ]
     },
     "execution_count": 22,
     "metadata": {},
     "output_type": "execute_result"
    },
    {
     "data": {
      "image/png": "[encoded data removed]",
      "text/plain": [
       "<Figure size 432x288 with 1 Axes>"
      ]
     },
     "metadata": {
      "needs_background": "light"
     },
     "output_type": "display_data"
    }
   ],
   "source": [
    "sns.scatterplot(x=list_pred,y=list_val)"
   ]
  }
 ],
 "metadata": {
  "kernelspec": {
   "display_name": "Python 3",
   "language": "python",
   "name": "python3"
  },
  "language_info": {
   "codemirror_mode": {
    "name": "ipython",
    "version": 3
   },
   "file_extension": ".py",
   "mimetype": "text/x-python",
   "name": "python",
   "nbconvert_exporter": "python",
   "pygments_lexer": "ipython3",
   "version": "3.8.5"
  }
 },
 "nbformat": 4,
 "nbformat_minor": 4
}
