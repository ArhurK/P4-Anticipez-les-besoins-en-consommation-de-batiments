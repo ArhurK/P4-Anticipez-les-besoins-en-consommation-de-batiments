{
 "cells": [
  {
   "cell_type": "code",
   "execution_count": 1,
   "metadata": {},
   "outputs": [],
   "source": [
    "import pandas as pd\n",
    "import numpy as np\n",
    "import matplotlib.pyplot as plt "
   ]
  },
  {
   "cell_type": "code",
   "execution_count": 2,
   "metadata": {
    "scrolled": true
   },
   "outputs": [
    {
     "data": {
      "text/html": [
       "<div>\n",
       "<style scoped>\n",
       "    .dataframe tbody tr th:only-of-type {\n",
       "        vertical-align: middle;\n",
       "    }\n",
       "\n",
       "    .dataframe tbody tr th {\n",
       "        vertical-align: top;\n",
       "    }\n",
       "\n",
       "    .dataframe thead th {\n",
       "        text-align: right;\n",
       "    }\n",
       "</style>\n",
       "<table border=\"1\" class=\"dataframe\">\n",
       "  <thead>\n",
       "    <tr style=\"text-align: right;\">\n",
       "      <th></th>\n",
       "      <th>OSEBuildingID</th>\n",
       "      <th>Latitude</th>\n",
       "      <th>Longitude</th>\n",
       "      <th>YearBuilt</th>\n",
       "      <th>NumberofBuildings</th>\n",
       "      <th>NumberofFloors</th>\n",
       "      <th>per_gfa_parking</th>\n",
       "      <th>per_gfa_bulding</th>\n",
       "      <th>site_per_electricity</th>\n",
       "      <th>site_per_steam</th>\n",
       "      <th>...</th>\n",
       "      <th>Pre-school/Daycare</th>\n",
       "      <th>Refrigerated Warehouse</th>\n",
       "      <th>Repair Services (Vehicle, Shoe, Locksmith, etc)</th>\n",
       "      <th>Restaurant</th>\n",
       "      <th>Retail Store</th>\n",
       "      <th>Self-Storage Facility</th>\n",
       "      <th>Social/Meeting Hall</th>\n",
       "      <th>Supermarket/Grocery Store</th>\n",
       "      <th>Swimming Pool</th>\n",
       "      <th>Worship Facility</th>\n",
       "    </tr>\n",
       "  </thead>\n",
       "  <tbody>\n",
       "    <tr>\n",
       "      <th>0</th>\n",
       "      <td>1</td>\n",
       "      <td>47.61220</td>\n",
       "      <td>-122.33799</td>\n",
       "      <td>1927</td>\n",
       "      <td>1.0</td>\n",
       "      <td>12</td>\n",
       "      <td>0.000000</td>\n",
       "      <td>1.000000</td>\n",
       "      <td>0.546060</td>\n",
       "      <td>0.277302</td>\n",
       "      <td>...</td>\n",
       "      <td>0.000000</td>\n",
       "      <td>0.0</td>\n",
       "      <td>0.0</td>\n",
       "      <td>0.000000</td>\n",
       "      <td>0.0</td>\n",
       "      <td>0.0</td>\n",
       "      <td>0.0</td>\n",
       "      <td>0.0</td>\n",
       "      <td>0.0</td>\n",
       "      <td>0.0</td>\n",
       "    </tr>\n",
       "    <tr>\n",
       "      <th>1</th>\n",
       "      <td>2</td>\n",
       "      <td>47.61317</td>\n",
       "      <td>-122.33393</td>\n",
       "      <td>1996</td>\n",
       "      <td>1.0</td>\n",
       "      <td>11</td>\n",
       "      <td>0.145453</td>\n",
       "      <td>0.854547</td>\n",
       "      <td>0.386609</td>\n",
       "      <td>0.000000</td>\n",
       "      <td>...</td>\n",
       "      <td>0.000000</td>\n",
       "      <td>0.0</td>\n",
       "      <td>0.0</td>\n",
       "      <td>0.044629</td>\n",
       "      <td>0.0</td>\n",
       "      <td>0.0</td>\n",
       "      <td>0.0</td>\n",
       "      <td>0.0</td>\n",
       "      <td>0.0</td>\n",
       "      <td>0.0</td>\n",
       "    </tr>\n",
       "    <tr>\n",
       "      <th>2</th>\n",
       "      <td>3</td>\n",
       "      <td>47.61393</td>\n",
       "      <td>-122.33810</td>\n",
       "      <td>1969</td>\n",
       "      <td>1.0</td>\n",
       "      <td>41</td>\n",
       "      <td>0.205748</td>\n",
       "      <td>0.794252</td>\n",
       "      <td>0.682307</td>\n",
       "      <td>0.297113</td>\n",
       "      <td>...</td>\n",
       "      <td>0.000000</td>\n",
       "      <td>0.0</td>\n",
       "      <td>0.0</td>\n",
       "      <td>0.000000</td>\n",
       "      <td>0.0</td>\n",
       "      <td>0.0</td>\n",
       "      <td>0.0</td>\n",
       "      <td>0.0</td>\n",
       "      <td>0.0</td>\n",
       "      <td>0.0</td>\n",
       "    </tr>\n",
       "    <tr>\n",
       "      <th>3</th>\n",
       "      <td>5</td>\n",
       "      <td>47.61412</td>\n",
       "      <td>-122.33664</td>\n",
       "      <td>1926</td>\n",
       "      <td>1.0</td>\n",
       "      <td>10</td>\n",
       "      <td>0.000000</td>\n",
       "      <td>1.000000</td>\n",
       "      <td>0.407519</td>\n",
       "      <td>0.325913</td>\n",
       "      <td>...</td>\n",
       "      <td>0.000000</td>\n",
       "      <td>0.0</td>\n",
       "      <td>0.0</td>\n",
       "      <td>0.000000</td>\n",
       "      <td>0.0</td>\n",
       "      <td>0.0</td>\n",
       "      <td>0.0</td>\n",
       "      <td>0.0</td>\n",
       "      <td>0.0</td>\n",
       "      <td>0.0</td>\n",
       "    </tr>\n",
       "    <tr>\n",
       "      <th>4</th>\n",
       "      <td>8</td>\n",
       "      <td>47.61375</td>\n",
       "      <td>-122.34047</td>\n",
       "      <td>1980</td>\n",
       "      <td>1.0</td>\n",
       "      <td>18</td>\n",
       "      <td>0.353115</td>\n",
       "      <td>0.646885</td>\n",
       "      <td>0.378802</td>\n",
       "      <td>0.000000</td>\n",
       "      <td>...</td>\n",
       "      <td>0.000000</td>\n",
       "      <td>0.0</td>\n",
       "      <td>0.0</td>\n",
       "      <td>0.000000</td>\n",
       "      <td>0.0</td>\n",
       "      <td>0.0</td>\n",
       "      <td>0.0</td>\n",
       "      <td>0.0</td>\n",
       "      <td>0.0</td>\n",
       "      <td>0.0</td>\n",
       "    </tr>\n",
       "    <tr>\n",
       "      <th>...</th>\n",
       "      <td>...</td>\n",
       "      <td>...</td>\n",
       "      <td>...</td>\n",
       "      <td>...</td>\n",
       "      <td>...</td>\n",
       "      <td>...</td>\n",
       "      <td>...</td>\n",
       "      <td>...</td>\n",
       "      <td>...</td>\n",
       "      <td>...</td>\n",
       "      <td>...</td>\n",
       "      <td>...</td>\n",
       "      <td>...</td>\n",
       "      <td>...</td>\n",
       "      <td>...</td>\n",
       "      <td>...</td>\n",
       "      <td>...</td>\n",
       "      <td>...</td>\n",
       "      <td>...</td>\n",
       "      <td>...</td>\n",
       "      <td>...</td>\n",
       "    </tr>\n",
       "    <tr>\n",
       "      <th>1478</th>\n",
       "      <td>50221</td>\n",
       "      <td>47.54067</td>\n",
       "      <td>-122.37441</td>\n",
       "      <td>1982</td>\n",
       "      <td>1.0</td>\n",
       "      <td>1</td>\n",
       "      <td>0.000000</td>\n",
       "      <td>1.000000</td>\n",
       "      <td>0.678440</td>\n",
       "      <td>0.000000</td>\n",
       "      <td>...</td>\n",
       "      <td>0.000000</td>\n",
       "      <td>0.0</td>\n",
       "      <td>0.0</td>\n",
       "      <td>0.000000</td>\n",
       "      <td>0.0</td>\n",
       "      <td>0.0</td>\n",
       "      <td>0.0</td>\n",
       "      <td>0.0</td>\n",
       "      <td>0.0</td>\n",
       "      <td>0.0</td>\n",
       "    </tr>\n",
       "    <tr>\n",
       "      <th>1479</th>\n",
       "      <td>50223</td>\n",
       "      <td>47.59625</td>\n",
       "      <td>-122.32283</td>\n",
       "      <td>2004</td>\n",
       "      <td>1.0</td>\n",
       "      <td>1</td>\n",
       "      <td>0.000000</td>\n",
       "      <td>1.000000</td>\n",
       "      <td>0.417296</td>\n",
       "      <td>0.000000</td>\n",
       "      <td>...</td>\n",
       "      <td>0.000000</td>\n",
       "      <td>0.0</td>\n",
       "      <td>0.0</td>\n",
       "      <td>0.000000</td>\n",
       "      <td>0.0</td>\n",
       "      <td>0.0</td>\n",
       "      <td>0.0</td>\n",
       "      <td>0.0</td>\n",
       "      <td>0.0</td>\n",
       "      <td>0.0</td>\n",
       "    </tr>\n",
       "    <tr>\n",
       "      <th>1480</th>\n",
       "      <td>50224</td>\n",
       "      <td>47.63644</td>\n",
       "      <td>-122.35784</td>\n",
       "      <td>1974</td>\n",
       "      <td>1.0</td>\n",
       "      <td>1</td>\n",
       "      <td>0.000000</td>\n",
       "      <td>1.000000</td>\n",
       "      <td>0.310820</td>\n",
       "      <td>0.000000</td>\n",
       "      <td>...</td>\n",
       "      <td>0.000000</td>\n",
       "      <td>0.0</td>\n",
       "      <td>0.0</td>\n",
       "      <td>0.000000</td>\n",
       "      <td>0.0</td>\n",
       "      <td>0.0</td>\n",
       "      <td>0.0</td>\n",
       "      <td>0.0</td>\n",
       "      <td>0.0</td>\n",
       "      <td>0.0</td>\n",
       "    </tr>\n",
       "    <tr>\n",
       "      <th>1481</th>\n",
       "      <td>50225</td>\n",
       "      <td>47.52832</td>\n",
       "      <td>-122.32431</td>\n",
       "      <td>1989</td>\n",
       "      <td>1.0</td>\n",
       "      <td>1</td>\n",
       "      <td>0.000000</td>\n",
       "      <td>1.000000</td>\n",
       "      <td>0.484898</td>\n",
       "      <td>0.000000</td>\n",
       "      <td>...</td>\n",
       "      <td>0.034324</td>\n",
       "      <td>0.0</td>\n",
       "      <td>0.0</td>\n",
       "      <td>0.000000</td>\n",
       "      <td>0.0</td>\n",
       "      <td>0.0</td>\n",
       "      <td>0.0</td>\n",
       "      <td>0.0</td>\n",
       "      <td>0.0</td>\n",
       "      <td>0.0</td>\n",
       "    </tr>\n",
       "    <tr>\n",
       "      <th>1482</th>\n",
       "      <td>50226</td>\n",
       "      <td>47.53939</td>\n",
       "      <td>-122.29536</td>\n",
       "      <td>1938</td>\n",
       "      <td>1.0</td>\n",
       "      <td>1</td>\n",
       "      <td>0.000000</td>\n",
       "      <td>1.000000</td>\n",
       "      <td>0.375189</td>\n",
       "      <td>0.000000</td>\n",
       "      <td>...</td>\n",
       "      <td>0.060686</td>\n",
       "      <td>0.0</td>\n",
       "      <td>0.0</td>\n",
       "      <td>0.000000</td>\n",
       "      <td>0.0</td>\n",
       "      <td>0.0</td>\n",
       "      <td>0.0</td>\n",
       "      <td>0.0</td>\n",
       "      <td>0.0</td>\n",
       "      <td>0.0</td>\n",
       "    </tr>\n",
       "  </tbody>\n",
       "</table>\n",
       "<p>1479 rows × 42 columns</p>\n",
       "</div>"
      ],
      "text/plain": [
       "      OSEBuildingID  Latitude  Longitude  YearBuilt  NumberofBuildings  \\\n",
       "0                 1  47.61220 -122.33799       1927                1.0   \n",
       "1                 2  47.61317 -122.33393       1996                1.0   \n",
       "2                 3  47.61393 -122.33810       1969                1.0   \n",
       "3                 5  47.61412 -122.33664       1926                1.0   \n",
       "4                 8  47.61375 -122.34047       1980                1.0   \n",
       "...             ...       ...        ...        ...                ...   \n",
       "1478          50221  47.54067 -122.37441       1982                1.0   \n",
       "1479          50223  47.59625 -122.32283       2004                1.0   \n",
       "1480          50224  47.63644 -122.35784       1974                1.0   \n",
       "1481          50225  47.52832 -122.32431       1989                1.0   \n",
       "1482          50226  47.53939 -122.29536       1938                1.0   \n",
       "\n",
       "      NumberofFloors  per_gfa_parking  per_gfa_bulding  site_per_electricity  \\\n",
       "0                 12         0.000000         1.000000              0.546060   \n",
       "1                 11         0.145453         0.854547              0.386609   \n",
       "2                 41         0.205748         0.794252              0.682307   \n",
       "3                 10         0.000000         1.000000              0.407519   \n",
       "4                 18         0.353115         0.646885              0.378802   \n",
       "...              ...              ...              ...                   ...   \n",
       "1478               1         0.000000         1.000000              0.678440   \n",
       "1479               1         0.000000         1.000000              0.417296   \n",
       "1480               1         0.000000         1.000000              0.310820   \n",
       "1481               1         0.000000         1.000000              0.484898   \n",
       "1482               1         0.000000         1.000000              0.375189   \n",
       "\n",
       "      site_per_steam  ...  Pre-school/Daycare  Refrigerated Warehouse  \\\n",
       "0           0.277302  ...            0.000000                     0.0   \n",
       "1           0.000000  ...            0.000000                     0.0   \n",
       "2           0.297113  ...            0.000000                     0.0   \n",
       "3           0.325913  ...            0.000000                     0.0   \n",
       "4           0.000000  ...            0.000000                     0.0   \n",
       "...              ...  ...                 ...                     ...   \n",
       "1478        0.000000  ...            0.000000                     0.0   \n",
       "1479        0.000000  ...            0.000000                     0.0   \n",
       "1480        0.000000  ...            0.000000                     0.0   \n",
       "1481        0.000000  ...            0.034324                     0.0   \n",
       "1482        0.000000  ...            0.060686                     0.0   \n",
       "\n",
       "      Repair Services (Vehicle, Shoe, Locksmith, etc)  Restaurant  \\\n",
       "0                                                 0.0    0.000000   \n",
       "1                                                 0.0    0.044629   \n",
       "2                                                 0.0    0.000000   \n",
       "3                                                 0.0    0.000000   \n",
       "4                                                 0.0    0.000000   \n",
       "...                                               ...         ...   \n",
       "1478                                              0.0    0.000000   \n",
       "1479                                              0.0    0.000000   \n",
       "1480                                              0.0    0.000000   \n",
       "1481                                              0.0    0.000000   \n",
       "1482                                              0.0    0.000000   \n",
       "\n",
       "      Retail Store  Self-Storage Facility  Social/Meeting Hall  \\\n",
       "0              0.0                    0.0                  0.0   \n",
       "1              0.0                    0.0                  0.0   \n",
       "2              0.0                    0.0                  0.0   \n",
       "3              0.0                    0.0                  0.0   \n",
       "4              0.0                    0.0                  0.0   \n",
       "...            ...                    ...                  ...   \n",
       "1478           0.0                    0.0                  0.0   \n",
       "1479           0.0                    0.0                  0.0   \n",
       "1480           0.0                    0.0                  0.0   \n",
       "1481           0.0                    0.0                  0.0   \n",
       "1482           0.0                    0.0                  0.0   \n",
       "\n",
       "      Supermarket/Grocery Store  Swimming Pool  Worship Facility  \n",
       "0                           0.0            0.0               0.0  \n",
       "1                           0.0            0.0               0.0  \n",
       "2                           0.0            0.0               0.0  \n",
       "3                           0.0            0.0               0.0  \n",
       "4                           0.0            0.0               0.0  \n",
       "...                         ...            ...               ...  \n",
       "1478                        0.0            0.0               0.0  \n",
       "1479                        0.0            0.0               0.0  \n",
       "1480                        0.0            0.0               0.0  \n",
       "1481                        0.0            0.0               0.0  \n",
       "1482                        0.0            0.0               0.0  \n",
       "\n",
       "[1479 rows x 42 columns]"
      ]
     },
     "execution_count": 2,
     "metadata": {},
     "output_type": "execute_result"
    }
   ],
   "source": [
    "db = pd.read_parquet('db_P4.parquet.gzip')\n",
    "db = db.drop(columns='log_SiteEnergyUseWN(kBtu)') # On supprime la cible 2 pour éviter toute confusion\n",
    "db"
   ]
  },
  {
   "cell_type": "code",
   "execution_count": 3,
   "metadata": {},
   "outputs": [
    {
     "data": {
      "text/plain": [
       "Index(['OSEBuildingID', 'Latitude', 'Longitude', 'YearBuilt',\n",
       "       'NumberofBuildings', 'NumberofFloors', 'per_gfa_parking',\n",
       "       'per_gfa_bulding', 'site_per_electricity', 'site_per_steam',\n",
       "       'site_per_gaz', 'log_TotalGHGEmissions', 'Bank Branch',\n",
       "       'College/University', 'Data Center', 'Distribution Center',\n",
       "       'Fitness Center/Health Club/Gym', 'Food Service',\n",
       "       'Hospital (General Medical & Surgical)', 'Hotel', 'K-12 School',\n",
       "       'Laboratory', 'Manufacturing/Industrial Plant', 'Medical Office',\n",
       "       'Multifamily Housing', 'Non-Refrigerated Warehouse', 'Office', 'Other',\n",
       "       'Other - Entertainment/Public Assembly', 'Other - Recreation',\n",
       "       'Other - Services', 'Parking', 'Pre-school/Daycare',\n",
       "       'Refrigerated Warehouse',\n",
       "       'Repair Services (Vehicle, Shoe, Locksmith, etc)', 'Restaurant',\n",
       "       'Retail Store', 'Self-Storage Facility', 'Social/Meeting Hall',\n",
       "       'Supermarket/Grocery Store', 'Swimming Pool', 'Worship Facility'],\n",
       "      dtype='object')"
      ]
     },
     "execution_count": 3,
     "metadata": {},
     "output_type": "execute_result"
    }
   ],
   "source": [
    "db.columns"
   ]
  },
  {
   "cell_type": "markdown",
   "metadata": {},
   "source": [
    "# Variables prédictives X & Cible y "
   ]
  },
  {
   "cell_type": "code",
   "execution_count": 4,
   "metadata": {},
   "outputs": [],
   "source": [
    "from sklearn.model_selection import train_test_split\n",
    "#from sklearn.linear_model import LinearRegression\n",
    "from sklearn.model_selection import cross_val_score\n",
    "\n",
    "from sklearn.metrics import explained_variance_score,mean_absolute_error,r2_score\n",
    "\n",
    "from sklearn.linear_model import LinearRegression, Ridge,Lasso\n",
    "from sklearn.neighbors import KNeighborsRegressor\n",
    "from sklearn.ensemble import GradientBoostingRegressor\n",
    "from sklearn.ensemble import ExtraTreesRegressor, RandomForestRegressor\n",
    "from sklearn.tree import DecisionTreeRegressor\n",
    "\n",
    "from time import time\n"
   ]
  },
  {
   "cell_type": "code",
   "execution_count": 5,
   "metadata": {},
   "outputs": [
    {
     "data": {
      "text/plain": [
       "array([[  47.6122 , -122.33799, 1927.     , ...,    0.     ,    0.     ,\n",
       "           0.     ],\n",
       "       [  47.61317, -122.33393, 1996.     , ...,    0.     ,    0.     ,\n",
       "           0.     ],\n",
       "       [  47.61393, -122.3381 , 1969.     , ...,    0.     ,    0.     ,\n",
       "           0.     ],\n",
       "       ...,\n",
       "       [  47.63644, -122.35784, 1974.     , ...,    0.     ,    0.     ,\n",
       "           0.     ],\n",
       "       [  47.52832, -122.32431, 1989.     , ...,    0.     ,    0.     ,\n",
       "           0.     ],\n",
       "       [  47.53939, -122.29536, 1938.     , ...,    0.     ,    0.     ,\n",
       "           0.     ]])"
      ]
     },
     "execution_count": 5,
     "metadata": {},
     "output_type": "execute_result"
    }
   ],
   "source": [
    "X = db.drop(columns=['log_TotalGHGEmissions','OSEBuildingID']).copy()\n",
    "X = np.array(X)\n",
    "X"
   ]
  },
  {
   "cell_type": "code",
   "execution_count": 6,
   "metadata": {
    "scrolled": true
   },
   "outputs": [
    {
     "data": {
      "text/plain": [
       "array([5.52138091, 5.68988637, 7.64457479, ..., 5.40959037, 3.09602999,\n",
       "       3.72013584])"
      ]
     },
     "execution_count": 6,
     "metadata": {},
     "output_type": "execute_result"
    }
   ],
   "source": [
    "y = db['log_TotalGHGEmissions'].copy()\n",
    "y = np.array(y)\n",
    "y"
   ]
  },
  {
   "cell_type": "markdown",
   "metadata": {},
   "source": [
    "# Train & Test Split"
   ]
  },
  {
   "cell_type": "code",
   "execution_count": 7,
   "metadata": {},
   "outputs": [],
   "source": [
    "X_train, X_test, y_train, y_test = train_test_split(X, y, test_size=0.2 , random_state = 2023)"
   ]
  },
  {
   "cell_type": "markdown",
   "metadata": {},
   "source": [
    "# Modèle "
   ]
  },
  {
   "cell_type": "code",
   "execution_count": 8,
   "metadata": {},
   "outputs": [],
   "source": [
    "regressors = [\n",
    "    KNeighborsRegressor(),\n",
    "    GradientBoostingRegressor(),\n",
    "    KNeighborsRegressor(),\n",
    "    ExtraTreesRegressor(),\n",
    "    RandomForestRegressor(),\n",
    "    DecisionTreeRegressor(),\n",
    "    LinearRegression(),\n",
    "    Lasso(),\n",
    "    Ridge()\n",
    "]"
   ]
  },
  {
   "cell_type": "code",
   "execution_count": 9,
   "metadata": {},
   "outputs": [
    {
     "name": "stdout",
     "output_type": "stream",
     "text": [
      "KNeighborsRegressor()\n",
      "\tTraining time: 0.000s\n",
      "\tPrediction time: 0.076s\n",
      "\tExplained variance: 0.28022515719255836\n",
      "\tMean absolute error: 0.9407083287873068\n",
      "\tR2 score: 0.25637818993990624\n",
      "\n",
      "GradientBoostingRegressor()\n",
      "\tTraining time: 0.303s\n",
      "\tPrediction time: 0.000s\n",
      "\tExplained variance: 0.6334679484026671\n",
      "\tMean absolute error: 0.6903940317159245\n",
      "\tR2 score: 0.6314968681405783\n",
      "\n",
      "KNeighborsRegressor()\n",
      "\tTraining time: 0.000s\n",
      "\tPrediction time: 0.016s\n",
      "\tExplained variance: 0.28022515719255836\n",
      "\tMean absolute error: 0.9407083287873068\n",
      "\tR2 score: 0.25637818993990624\n",
      "\n",
      "ExtraTreesRegressor()\n",
      "\tTraining time: 0.581s\n",
      "\tPrediction time: 0.016s\n",
      "\tExplained variance: 0.590020194071176\n",
      "\tMean absolute error: 0.7006539459782296\n",
      "\tR2 score: 0.5852396148590231\n",
      "\n",
      "RandomForestRegressor()\n",
      "\tTraining time: 0.731s\n",
      "\tPrediction time: 0.016s\n",
      "\tExplained variance: 0.6020147046099102\n",
      "\tMean absolute error: 0.7057503222600346\n",
      "\tR2 score: 0.5994386589794309\n",
      "\n",
      "DecisionTreeRegressor()\n",
      "\tTraining time: 0.016s\n",
      "\tPrediction time: 0.000s\n",
      "\tExplained variance: 0.3365445263776399\n",
      "\tMean absolute error: 0.912234679241442\n",
      "\tR2 score: 0.3349295361182989\n",
      "\n",
      "LinearRegression()\n",
      "\tTraining time: 0.000s\n",
      "\tPrediction time: 0.000s\n",
      "\tExplained variance: 0.4729392558420942\n",
      "\tMean absolute error: 0.7756445080428975\n",
      "\tR2 score: 0.4706875625964383\n",
      "\n",
      "Lasso()\n",
      "\tTraining time: 0.000s\n",
      "\tPrediction time: 0.000s\n",
      "\tExplained variance: 0.14200215899014745\n",
      "\tMean absolute error: 1.0425430661128487\n",
      "\tR2 score: 0.1353732904050916\n",
      "\n",
      "Ridge()\n",
      "\tTraining time: 0.000s\n",
      "\tPrediction time: 0.000s\n",
      "\tExplained variance: 0.5771843610247347\n",
      "\tMean absolute error: 0.7385355056102451\n",
      "\tR2 score: 0.5705530327835555\n",
      "\n"
     ]
    }
   ],
   "source": [
    "head = 10\n",
    "for model in regressors[:head]:\n",
    "    start = time()\n",
    "    model.fit(X_train, y_train)\n",
    "    train_time = time() - start\n",
    "    start = time()\n",
    "    y_pred = model.predict(X_test)\n",
    "    predict_time = time()-start    \n",
    "    print(model)\n",
    "    print(\"\\tTraining time: %0.3fs\" % train_time)\n",
    "    print(\"\\tPrediction time: %0.3fs\" % predict_time)\n",
    "    print(\"\\tExplained variance:\", explained_variance_score(y_test, y_pred))\n",
    "    print(\"\\tMean absolute error:\", mean_absolute_error(y_test, y_pred))\n",
    "    print(\"\\tR2 score:\", r2_score(y_test, y_pred))\n",
    "    print()"
   ]
  },
  {
   "cell_type": "markdown",
   "metadata": {},
   "source": [
    "## Grid search CV"
   ]
  },
  {
   "cell_type": "code",
   "execution_count": 10,
   "metadata": {},
   "outputs": [],
   "source": [
    "# from sklearn.model_selection import GridSearchCV"
   ]
  },
  {
   "cell_type": "code",
   "execution_count": 11,
   "metadata": {},
   "outputs": [],
   "source": [
    "# parameters = { 'loss' : ['ls', 'lad', 'huber', 'quantile'],\n",
    "#               'learning_rate' : (0.05,0.25,0.50,1),\n",
    "#               'criterion' : ['friedman_mse', 'mse', 'mae'],\n",
    "#               'max_features' : ['auto', 'sqrt', 'log2']\n",
    "#              }"
   ]
  },
  {
   "cell_type": "code",
   "execution_count": 12,
   "metadata": {},
   "outputs": [],
   "source": [
    "# grid = GridSearchCV(GradientBoostingRegressor(),parameters)\n",
    "# model = grid.fit(X_train,y_train)\n",
    "# print(model.best_params_,'\\n')\n",
    "# print(model.best_estimator_,'\\n')"
   ]
  },
  {
   "cell_type": "markdown",
   "metadata": {},
   "source": [
    "## Régression linéaire "
   ]
  },
  {
   "cell_type": "code",
   "execution_count": 13,
   "metadata": {},
   "outputs": [],
   "source": [
    "# reg = LinearRegression().fit(X_train, y_train) # Régression linéaire"
   ]
  },
  {
   "cell_type": "code",
   "execution_count": 14,
   "metadata": {
    "scrolled": true
   },
   "outputs": [],
   "source": [
    "# reg.score(X, y) # R2"
   ]
  },
  {
   "cell_type": "code",
   "execution_count": 15,
   "metadata": {},
   "outputs": [],
   "source": [
    "# y_pred = reg.predict(X_test) # Prédiction sur X_test"
   ]
  },
  {
   "cell_type": "code",
   "execution_count": 16,
   "metadata": {},
   "outputs": [],
   "source": [
    "# from sklearn.metrics import mean_squared_error\n",
    "# from sklearn.metrics import r2_score"
   ]
  },
  {
   "cell_type": "code",
   "execution_count": 17,
   "metadata": {
    "scrolled": true
   },
   "outputs": [],
   "source": [
    "# # The coefficients\n",
    "# print(\"Coefficients: \\n\", reg.coef_)\n",
    "# # The mean squared error\n",
    "# print(\"Mean squared error: %.2f\" % mean_squared_error(y_test, y_pred))\n",
    "# # The coefficient of determination: 1 is perfect prediction\n",
    "# print(\"Coefficient of determination: %.2f\" % r2_score(y_test, y_pred))"
   ]
  },
  {
   "cell_type": "markdown",
   "metadata": {},
   "source": [
    "# Cross validation"
   ]
  },
  {
   "cell_type": "code",
   "execution_count": 18,
   "metadata": {
    "scrolled": true
   },
   "outputs": [],
   "source": [
    "# cross_val_score(LinearRegression(),X_train,y_train,cv=5)#,scoring='r2')"
   ]
  },
  {
   "cell_type": "code",
   "execution_count": 19,
   "metadata": {},
   "outputs": [],
   "source": [
    "# from sklearn.model_selection import KFold"
   ]
  },
  {
   "cell_type": "code",
   "execution_count": 20,
   "metadata": {},
   "outputs": [],
   "source": [
    "# # Create 5 folds\n",
    "# seed = 7\n",
    "# kfold = KFold(n_splits=5, shuffle=True, random_state=seed)\n",
    "\n",
    "# # Create a model \n",
    "# model = LinearRegression()\n",
    "\n",
    "# # Train and evaluate multiple models using kfolds\n",
    "# results = cross_val_score(model, X, y, cv=kfold, scoring='r2')\n",
    "# print(results)\n",
    "# print(\"Mean:\", results.mean())\n",
    "# print(\"Std:\", results.std())"
   ]
  },
  {
   "cell_type": "code",
   "execution_count": 21,
   "metadata": {},
   "outputs": [],
   "source": [
    "# "
   ]
  },
  {
   "cell_type": "markdown",
   "metadata": {},
   "source": [
    "# Fonction à écrire ML \n",
    "    Comparer les modèles"
   ]
  },
  {
   "cell_type": "code",
   "execution_count": 87,
   "metadata": {},
   "outputs": [],
   "source": [
    "# Fonction \n",
    "\n",
    "from sklearn.model_selection import KFold\n",
    "from sklearn.metrics import mean_squared_error\n",
    "from sklearn.metrics import r2_score\n",
    "\n",
    "def ML (model, X = X_train, y = y_train, param = None):\n",
    "    \n",
    "    seed = 7\n",
    "    kfold = KFold(n_splits=5, shuffle=True, random_state=seed).split(X_train)\n",
    "\n",
    "    if param is not None:\n",
    "        \n",
    "        gs = GridSearchCV(model, param_grid = param, cv = kfold, scoring = 'r2').fit(X,y)\n",
    "        print(gs.best_params_)\n",
    "        model.set_params(**gs.best_params_)\n",
    "    \n",
    "    list_pred = []\n",
    "    list_val = []\n",
    "\n",
    "    start = time()\n",
    "    \n",
    "    kfold = KFold(n_splits=5, shuffle=True, random_state=seed).split(X_train)\n",
    "    \n",
    "    for train, test in kfold:\n",
    "        list_pred.append(model.fit(X[train],y[train]).predict(X[test]))\n",
    "        list_val.append(y[test])\n",
    "        \n",
    "    end = time()\n",
    "    \n",
    "    list_pred = np.concatenate(list_pred)\n",
    "    list_val = np.concatenate(list_val)\n",
    "\n",
    "    print(\n",
    "    mean_squared_error(list_pred,list_val),\n",
    "    r2_score(list_pred,list_val))\n",
    "    \n",
    "    \n",
    "    return     mean_squared_error(list_pred,list_val),r2_score(list_pred,list_val), list_pred,list_val,end-start"
   ]
  },
  {
   "cell_type": "markdown",
   "metadata": {},
   "source": [
    "###  Test "
   ]
  },
  {
   "cell_type": "code",
   "execution_count": 32,
   "metadata": {},
   "outputs": [
    {
     "name": "stdout",
     "output_type": "stream",
     "text": [
      "1.0220306136287551 0.28837970443069616\n"
     ]
    },
    {
     "data": {
      "text/plain": [
       "array([2.30435354, 2.2830803 , 5.52577248, ..., 3.72966702, 3.34827107,\n",
       "       3.56717954])"
      ]
     },
     "execution_count": 32,
     "metadata": {},
     "output_type": "execute_result"
    }
   ],
   "source": [
    "ML(LinearRegression(),param = None)[2] #OK !"
   ]
  },
  {
   "cell_type": "code",
   "execution_count": null,
   "metadata": {},
   "outputs": [],
   "source": [
    " print(\"\\tTraining time: %0.3fs\" % train_time)\n",
    "    print(\"\\tPrediction time: %0.3fs\" % predict_time)\n",
    "    print(\"\\tExplained variance:\", explained_variance_score(y_test, y_pred))\n",
    "    print(\"\\tMean absolute error:\",mean_squared_error(list_pred,list_val))\n",
    "    print(\"\\tR2 score:\", r2_score(y_test, y_pred))\n",
    "    print()"
   ]
  },
  {
   "cell_type": "code",
   "execution_count": 34,
   "metadata": {},
   "outputs": [
    {
     "name": "stdout",
     "output_type": "stream",
     "text": [
      "KNeighborsRegressor()\n",
      "1.721400007388838 -1.191688359332495\n",
      "\tMean absolute error: 1.721400007388838\n",
      "1.721400007388838 -1.191688359332495\n",
      "\tR2 score: -1.191688359332495\n",
      "GradientBoostingRegressor()\n",
      "0.7385526131258199 0.4113968960969884\n",
      "\tMean absolute error: 0.7385526131258199\n",
      "0.7396950435803085 0.4095282527104285\n",
      "\tR2 score: 0.4095282527104285\n",
      "KNeighborsRegressor()\n",
      "1.721400007388838 -1.191688359332495\n",
      "\tMean absolute error: 1.721400007388838\n",
      "1.721400007388838 -1.191688359332495\n",
      "\tR2 score: -1.191688359332495\n",
      "ExtraTreesRegressor()\n",
      "0.7722358279078838 0.4612965908280162\n",
      "\tMean absolute error: 0.7722358279078838\n",
      "0.7774712011611588 0.4639970882536044\n",
      "\tR2 score: 0.4639970882536044\n",
      "RandomForestRegressor()\n",
      "0.7804273536695084 0.42392591027721194\n",
      "\tMean absolute error: 0.7804273536695084\n",
      "0.7785933392060411 0.42721103028841834\n",
      "\tR2 score: 0.42721103028841834\n",
      "DecisionTreeRegressor()\n",
      "1.4016976058575181 0.34018313380486054\n",
      "\tMean absolute error: 1.4016976058575181\n",
      "1.3927480158978782 0.35730556350167797\n",
      "\tR2 score: 0.35730556350167797\n",
      "LinearRegression()\n",
      "1.0220306136287551 0.28837970443069616\n",
      "\tMean absolute error: 1.0220306136287551\n",
      "1.0220306136287551 0.28837970443069616\n",
      "\tR2 score: 0.28837970443069616\n",
      "Lasso()\n",
      "2.01507899600821 -15.045832717476952\n",
      "\tMean absolute error: 2.01507899600821\n",
      "2.01507899600821 -15.045832717476952\n",
      "\tR2 score: -15.045832717476952\n",
      "Ridge()\n",
      "1.025607006470922 0.2244720664766715\n",
      "\tMean absolute error: 1.025607006470922\n",
      "1.025607006470922 0.2244720664766715\n",
      "\tR2 score: 0.2244720664766715\n"
     ]
    }
   ],
   "source": [
    "for model in regressors:\n",
    "    print(model)\n",
    "    #print('\\t',ML(model))\n",
    "    print(\"\\tMean absolute error:\",ML(model)[0])\n",
    "    print(\"\\tR2 score:\",ML(model)[1])"
   ]
  },
  {
   "cell_type": "markdown",
   "metadata": {},
   "source": [
    "### ZIP"
   ]
  },
  {
   "cell_type": "code",
   "execution_count": null,
   "metadata": {},
   "outputs": [],
   "source": [
    "########################\n",
    "\n",
    "# Utiliser ZIP\n",
    "# For model in param in ZIP\n",
    "\n",
    "# for model, param in zip(model_list, params_list):"
   ]
  },
  {
   "cell_type": "code",
   "execution_count": 89,
   "metadata": {},
   "outputs": [],
   "source": [
    "model_list = [LinearRegression(),\n",
    "              RandomForestRegressor(n_jobs=-1),\n",
    "             ]\n",
    "\n",
    "params_list =  [None,\n",
    "                { 'n_estimators' : [80, 100, 120] ,\n",
    "                 'max_depth': [5, 10, 20, 25],\n",
    "                 'min_samples_split': [2, 5, 8, 10],\n",
    "                 'min_samples_leaf': [1, 2, 5]\n",
    "                } \n",
    "                \n",
    "               \n",
    "               ]\n",
    "\n",
    "\n",
    "\n",
    "zip_object = zip(model_list,params_list)\n"
   ]
  },
  {
   "cell_type": "code",
   "execution_count": 90,
   "metadata": {},
   "outputs": [
    {
     "name": "stdout",
     "output_type": "stream",
     "text": [
      "1.0220306136287551 0.28837970443069616\n",
      "LinearRegression() (1.0220306136287551, 0.28837970443069616, array([2.30435354, 2.2830803 , 5.52577248, ..., 3.72966702, 3.34827107,\n",
      "       3.56717954]), array([2.43185743, 4.32134732, 4.78197656, ..., 3.50435547, 4.05577697,\n",
      "       4.49914278]), 0.012968063354492188)\n",
      "{'max_depth': 25, 'min_samples_leaf': 2, 'min_samples_split': 2, 'n_estimators': 100}\n",
      "0.7750211498899324 0.41795433958984685\n",
      "RandomForestRegressor(max_depth=25, min_samples_leaf=2, n_jobs=-1) (0.7750211498899324, 0.41795433958984685, array([2.5960099 , 2.59715682, 4.9414435 , ..., 4.10581347, 3.83689249,\n",
      "       4.11672342]), array([2.43185743, 4.32134732, 4.78197656, ..., 3.50435547, 4.05577697,\n",
      "       4.49914278]), 1.1246705055236816)\n"
     ]
    }
   ],
   "source": [
    "for model,param in zip(model_list,params_list):\n",
    "    print(model,ML(model=model,param=param))"
   ]
  },
  {
   "cell_type": "code",
   "execution_count": 88,
   "metadata": {},
   "outputs": [
    {
     "name": "stdout",
     "output_type": "stream",
     "text": [
      "{'n_estimators': 100}\n",
      "0.7769463398725915 0.4325409033268749\n"
     ]
    },
    {
     "data": {
      "text/plain": [
       "(0.7769463398725915,\n",
       " 0.4325409033268749,\n",
       " array([2.60615811, 2.61768895, 4.92680149, ..., 4.22320965, 3.90781087,\n",
       "        3.99782448]),\n",
       " array([2.43185743, 4.32134732, 4.78197656, ..., 3.50435547, 4.05577697,\n",
       "        4.49914278]),\n",
       " 3.5678935050964355)"
      ]
     },
     "execution_count": 88,
     "metadata": {},
     "output_type": "execute_result"
    }
   ],
   "source": [
    "ML(RandomForestRegressor(),param= {'n_estimators' : [80, 100, 120]\n",
    "} )"
   ]
  },
  {
   "cell_type": "code",
   "execution_count": 69,
   "metadata": {},
   "outputs": [
    {
     "data": {
      "text/plain": [
       "8"
      ]
     },
     "execution_count": 69,
     "metadata": {},
     "output_type": "execute_result"
    }
   ],
   "source": [
    "from multiprocessing import Pool\n",
    "import os\n",
    "cpuCount = os.cpu_count()\n",
    "cpuCount"
   ]
  },
  {
   "cell_type": "markdown",
   "metadata": {},
   "source": [
    "support vector regression \n",
    "\n",
    "•C: [5, 10, 20]\n",
    "•gamma: ['scale', 'auto']\n",
    "•kernel: ['poly', 'rbf', 'linear’]\n",
    "•epsilon: [0.05, 0.1, 0.3, 1]\n",
    "\n",
    "lightGBM:\n",
    "•n_estimators: [80, 100, 120, 150]\n",
    "•max_depth: [3, 5, 8, 10]\n",
    "•num_leaves: [6, 8, 10]\n",
    "\n",
    "Arbre de decisions:\n",
    "\n",
    "•max_depth: [8, 10, 12]\n",
    "      min_samples_split: [5, 8, 10, 12]\n",
    "•min_samples_leaf: [1, 2, 3]\n",
    "•splitter : ['best', 'random']\n",
    "\n",
    "XGboost : \n",
    "    'regressor__learning_rate' : [0.01, 0.1, 0.5],\n",
    "    'regressor__gamma': [0, 0.5, 1.0],\n",
    "    'regressor__max_depth': [5, 10, 20],\n",
    "    'regressor__min_child_weight' : [1, 5, 10],\n",
    "    'regressor__n_estimators': [50, 100, 1000]"
   ]
  },
  {
   "cell_type": "code",
   "execution_count": 45,
   "metadata": {},
   "outputs": [
    {
     "ename": "SyntaxError",
     "evalue": "invalid syntax (1773008098.py, line 1)",
     "output_type": "error",
     "traceback": [
      "\u001b[1;36m  File \u001b[1;32m\"C:\\Users\\kiehl\\AppData\\Local\\Temp\\ipykernel_11952\\1773008098.py\"\u001b[1;36m, line \u001b[1;32m1\u001b[0m\n\u001b[1;33m    for params_list in model_list in zip(model_list,params_list)\u001b[0m\n\u001b[1;37m                                                                ^\u001b[0m\n\u001b[1;31mSyntaxError\u001b[0m\u001b[1;31m:\u001b[0m invalid syntax\n"
     ]
    }
   ],
   "source": [
    "for params_list in model_list in zip(model_list,params_list)"
   ]
  },
  {
   "cell_type": "code",
   "execution_count": 41,
   "metadata": {},
   "outputs": [],
   "source": [
    "# Fonction \n",
    "\n",
    "from sklearn.model_selection import KFold\n",
    "from sklearn.metrics import mean_squared_error\n",
    "from sklearn.metrics import r2_score\n",
    "from sklearn.model_selection import GridSearchCV\n",
    "\n",
    "\n",
    "def ML_hyper (model, X = X_train, y = y_train, param = zip_object):\n",
    "    \n",
    "    seed = 7\n",
    "    kfold = KFold(n_splits=5, shuffle=True, random_state=seed).split(X_train)\n",
    "\n",
    "    if param is not None:\n",
    "        \n",
    "        gs = GridSearchCV(model, param_grid = param, cv = kfold, scoring = 'r2').fit(X,y)\n",
    "        print(gs.best_params_)\n",
    "        model.set_params(**gs.best_params_)\n",
    "    \n",
    "    list_pred = []\n",
    "    list_val = []\n",
    "\n",
    "    start = time()\n",
    "    \n",
    "    for train, test in kfold:\n",
    "        list_pred.append(model.fit(X[train],y[train]).predict(X[test]))\n",
    "        list_val.append(y_train[test])\n",
    "        \n",
    "    end = time()\n",
    "    \n",
    "    list_pred = np.concatenate(list_pred)\n",
    "    list_val = np.concatenate(list_val)\n",
    "\n",
    "    print(\n",
    "    mean_squared_error(list_pred,list_val),\n",
    "    r2_score(list_pred,list_val))\n",
    "    \n",
    "    \n",
    "    return     mean_squared_error(list_pred,list_val),r2_score(list_pred,list_val), list_pred,list_val,end-start"
   ]
  },
  {
   "cell_type": "code",
   "execution_count": 42,
   "metadata": {},
   "outputs": [
    {
     "ename": "AttributeError",
     "evalue": "'tuple' object has no attribute 'items'",
     "output_type": "error",
     "traceback": [
      "\u001b[1;31m---------------------------------------------------------------------------\u001b[0m",
      "\u001b[1;31mAttributeError\u001b[0m                            Traceback (most recent call last)",
      "\u001b[1;32m~\\AppData\\Local\\Temp\\ipykernel_11952\\4216096326.py\u001b[0m in \u001b[0;36m<module>\u001b[1;34m\u001b[0m\n\u001b[1;32m----> 1\u001b[1;33m \u001b[0mML_hyper\u001b[0m\u001b[1;33m(\u001b[0m\u001b[0mLinearRegression\u001b[0m\u001b[1;33m(\u001b[0m\u001b[1;33m)\u001b[0m\u001b[1;33m)\u001b[0m\u001b[1;33m\u001b[0m\u001b[1;33m\u001b[0m\u001b[0m\n\u001b[0m",
      "\u001b[1;32m~\\AppData\\Local\\Temp\\ipykernel_11952\\1709315018.py\u001b[0m in \u001b[0;36mML_hyper\u001b[1;34m(model, X, y, param)\u001b[0m\n\u001b[0;32m     14\u001b[0m     \u001b[1;32mif\u001b[0m \u001b[0mparam\u001b[0m \u001b[1;32mis\u001b[0m \u001b[1;32mnot\u001b[0m \u001b[1;32mNone\u001b[0m\u001b[1;33m:\u001b[0m\u001b[1;33m\u001b[0m\u001b[1;33m\u001b[0m\u001b[0m\n\u001b[0;32m     15\u001b[0m \u001b[1;33m\u001b[0m\u001b[0m\n\u001b[1;32m---> 16\u001b[1;33m         \u001b[0mgs\u001b[0m \u001b[1;33m=\u001b[0m \u001b[0mGridSearchCV\u001b[0m\u001b[1;33m(\u001b[0m\u001b[0mmodel\u001b[0m\u001b[1;33m,\u001b[0m \u001b[0mparam_grid\u001b[0m \u001b[1;33m=\u001b[0m \u001b[0mparam\u001b[0m\u001b[1;33m,\u001b[0m \u001b[0mcv\u001b[0m \u001b[1;33m=\u001b[0m \u001b[0mkfold\u001b[0m\u001b[1;33m,\u001b[0m \u001b[0mscoring\u001b[0m \u001b[1;33m=\u001b[0m \u001b[1;34m'r2'\u001b[0m\u001b[1;33m)\u001b[0m\u001b[1;33m.\u001b[0m\u001b[0mfit\u001b[0m\u001b[1;33m(\u001b[0m\u001b[0mX\u001b[0m\u001b[1;33m,\u001b[0m\u001b[0my\u001b[0m\u001b[1;33m)\u001b[0m\u001b[1;33m\u001b[0m\u001b[1;33m\u001b[0m\u001b[0m\n\u001b[0m\u001b[0;32m     17\u001b[0m         \u001b[0mprint\u001b[0m\u001b[1;33m(\u001b[0m\u001b[0mgs\u001b[0m\u001b[1;33m.\u001b[0m\u001b[0mbest_params_\u001b[0m\u001b[1;33m)\u001b[0m\u001b[1;33m\u001b[0m\u001b[1;33m\u001b[0m\u001b[0m\n\u001b[0;32m     18\u001b[0m         \u001b[0mmodel\u001b[0m\u001b[1;33m.\u001b[0m\u001b[0mset_params\u001b[0m\u001b[1;33m(\u001b[0m\u001b[1;33m**\u001b[0m\u001b[0mgs\u001b[0m\u001b[1;33m.\u001b[0m\u001b[0mbest_params_\u001b[0m\u001b[1;33m)\u001b[0m\u001b[1;33m\u001b[0m\u001b[1;33m\u001b[0m\u001b[0m\n",
      "\u001b[1;32m~\\Anaconda3\\lib\\site-packages\\sklearn\\model_selection\\_search.py\u001b[0m in \u001b[0;36m__init__\u001b[1;34m(self, estimator, param_grid, scoring, n_jobs, refit, cv, verbose, pre_dispatch, error_score, return_train_score)\u001b[0m\n\u001b[0;32m   1386\u001b[0m         )\n\u001b[0;32m   1387\u001b[0m         \u001b[0mself\u001b[0m\u001b[1;33m.\u001b[0m\u001b[0mparam_grid\u001b[0m \u001b[1;33m=\u001b[0m \u001b[0mparam_grid\u001b[0m\u001b[1;33m\u001b[0m\u001b[1;33m\u001b[0m\u001b[0m\n\u001b[1;32m-> 1388\u001b[1;33m         \u001b[0m_check_param_grid\u001b[0m\u001b[1;33m(\u001b[0m\u001b[0mparam_grid\u001b[0m\u001b[1;33m)\u001b[0m\u001b[1;33m\u001b[0m\u001b[1;33m\u001b[0m\u001b[0m\n\u001b[0m\u001b[0;32m   1389\u001b[0m \u001b[1;33m\u001b[0m\u001b[0m\n\u001b[0;32m   1390\u001b[0m     \u001b[1;32mdef\u001b[0m \u001b[0m_run_search\u001b[0m\u001b[1;33m(\u001b[0m\u001b[0mself\u001b[0m\u001b[1;33m,\u001b[0m \u001b[0mevaluate_candidates\u001b[0m\u001b[1;33m)\u001b[0m\u001b[1;33m:\u001b[0m\u001b[1;33m\u001b[0m\u001b[1;33m\u001b[0m\u001b[0m\n",
      "\u001b[1;32m~\\Anaconda3\\lib\\site-packages\\sklearn\\model_selection\\_search.py\u001b[0m in \u001b[0;36m_check_param_grid\u001b[1;34m(param_grid)\u001b[0m\n\u001b[0;32m    327\u001b[0m \u001b[1;33m\u001b[0m\u001b[0m\n\u001b[0;32m    328\u001b[0m     \u001b[1;32mfor\u001b[0m \u001b[0mp\u001b[0m \u001b[1;32min\u001b[0m \u001b[0mparam_grid\u001b[0m\u001b[1;33m:\u001b[0m\u001b[1;33m\u001b[0m\u001b[1;33m\u001b[0m\u001b[0m\n\u001b[1;32m--> 329\u001b[1;33m         \u001b[1;32mfor\u001b[0m \u001b[0mname\u001b[0m\u001b[1;33m,\u001b[0m \u001b[0mv\u001b[0m \u001b[1;32min\u001b[0m \u001b[0mp\u001b[0m\u001b[1;33m.\u001b[0m\u001b[0mitems\u001b[0m\u001b[1;33m(\u001b[0m\u001b[1;33m)\u001b[0m\u001b[1;33m:\u001b[0m\u001b[1;33m\u001b[0m\u001b[1;33m\u001b[0m\u001b[0m\n\u001b[0m\u001b[0;32m    330\u001b[0m             \u001b[1;32mif\u001b[0m \u001b[0misinstance\u001b[0m\u001b[1;33m(\u001b[0m\u001b[0mv\u001b[0m\u001b[1;33m,\u001b[0m \u001b[0mnp\u001b[0m\u001b[1;33m.\u001b[0m\u001b[0mndarray\u001b[0m\u001b[1;33m)\u001b[0m \u001b[1;32mand\u001b[0m \u001b[0mv\u001b[0m\u001b[1;33m.\u001b[0m\u001b[0mndim\u001b[0m \u001b[1;33m>\u001b[0m \u001b[1;36m1\u001b[0m\u001b[1;33m:\u001b[0m\u001b[1;33m\u001b[0m\u001b[1;33m\u001b[0m\u001b[0m\n\u001b[0;32m    331\u001b[0m                 \u001b[1;32mraise\u001b[0m \u001b[0mValueError\u001b[0m\u001b[1;33m(\u001b[0m\u001b[1;34m\"Parameter array should be one-dimensional.\"\u001b[0m\u001b[1;33m)\u001b[0m\u001b[1;33m\u001b[0m\u001b[1;33m\u001b[0m\u001b[0m\n",
      "\u001b[1;31mAttributeError\u001b[0m: 'tuple' object has no attribute 'items'"
     ]
    }
   ],
   "source": [
    "ML_hyper(LinearRegression())"
   ]
  },
  {
   "cell_type": "code",
   "execution_count": 85,
   "metadata": {},
   "outputs": [],
   "source": [
    "###############################################"
   ]
  },
  {
   "cell_type": "code",
   "execution_count": 18,
   "metadata": {},
   "outputs": [
    {
     "name": "stdout",
     "output_type": "stream",
     "text": [
      "1.0220306136287551 0.28837970443069616\n"
     ]
    }
   ],
   "source": [
    "seed = 7\n",
    "kfold = KFold(n_splits=5, shuffle=True, random_state=seed).split(X_train)\n",
    "\n",
    "list_pred = []\n",
    "list_val = []\n",
    "\n",
    "for train, test in kfold:\n",
    "    list_pred.append(LinearRegression().fit(X_train[train],y_train[train]).predict(X_train[test]))\n",
    "    list_val.append(y_train[test])\n",
    "    \n",
    "list_pred = np.concatenate(list_pred)\n",
    "list_val = np.concatenate(list_val)\n",
    "\n",
    "print(\n",
    "    mean_squared_error(list_pred,list_val),\n",
    "    r2_score(list_pred,list_val))"
   ]
  },
  {
   "cell_type": "code",
   "execution_count": 19,
   "metadata": {},
   "outputs": [
    {
     "name": "stdout",
     "output_type": "stream",
     "text": [
      "1.1326884159450412 0.30520287263382895\n"
     ]
    }
   ],
   "source": [
    "pred = LinearRegression().fit(X_train,y_train).predict(X_test)\n",
    "print(\n",
    "    mean_squared_error(pred,y_test),\n",
    "    r2_score(pred,y_test))"
   ]
  },
  {
   "cell_type": "markdown",
   "metadata": {},
   "source": [
    "# RF "
   ]
  },
  {
   "cell_type": "code",
   "execution_count": 20,
   "metadata": {},
   "outputs": [],
   "source": [
    "from sklearn.ensemble import RandomForestRegressor"
   ]
  },
  {
   "cell_type": "code",
   "execution_count": 21,
   "metadata": {},
   "outputs": [
    {
     "name": "stdout",
     "output_type": "stream",
     "text": [
      "0.778732044209826 0.4267721360423117\n"
     ]
    }
   ],
   "source": [
    "seed = 7\n",
    "kfold = KFold(n_splits=5, shuffle=True, random_state=seed).split(X_train)\n",
    "\n",
    "list_pred = []\n",
    "list_val = []\n",
    "\n",
    "for train, test in kfold:\n",
    "    list_pred.append(RandomForestRegressor().fit(X_train[train],y_train[train]).predict(X_train[test]))\n",
    "    list_val.append(y_train[test])\n",
    "    \n",
    "list_pred = np.concatenate(list_pred)\n",
    "list_val = np.concatenate(list_val)\n",
    "\n",
    "print(\n",
    "    mean_squared_error(list_pred,list_val),\n",
    "    r2_score(list_pred,list_val))"
   ]
  },
  {
   "cell_type": "code",
   "execution_count": 64,
   "metadata": {},
   "outputs": [],
   "source": [
    "params = { 'n_estimators' : [80, 100, 120] ,\n",
    "          'max_depth': [5, 10, 20, 25],\n",
    "          'min_samples_split': [2, 5, 8, 10],\n",
    "          #'min_samples_leaf': [1, 2, 5]\n",
    "\n",
    "}"
   ]
  },
  {
   "cell_type": "code",
   "execution_count": 65,
   "metadata": {},
   "outputs": [
    {
     "name": "stderr",
     "output_type": "stream",
     "text": [
      "C:\\Users\\kiehl\\Anaconda3\\lib\\site-packages\\sklearn\\model_selection\\_validation.py:372: FitFailedWarning: \n",
      "180 fits failed out of a total of 900.\n",
      "The score on these train-test partitions for these parameters will be set to nan.\n",
      "If these failures are not expected, you can try to debug them by setting error_score='raise'.\n",
      "\n",
      "Below are more details about the failures:\n",
      "--------------------------------------------------------------------------------\n",
      "180 fits failed with the following error:\n",
      "Traceback (most recent call last):\n",
      "  File \"C:\\Users\\kiehl\\Anaconda3\\lib\\site-packages\\sklearn\\model_selection\\_validation.py\", line 680, in _fit_and_score\n",
      "    estimator.fit(X_train, y_train, **fit_params)\n",
      "  File \"C:\\Users\\kiehl\\Anaconda3\\lib\\site-packages\\sklearn\\ensemble\\_forest.py\", line 450, in fit\n",
      "    trees = Parallel(\n",
      "  File \"C:\\Users\\kiehl\\Anaconda3\\lib\\site-packages\\joblib\\parallel.py\", line 1043, in __call__\n",
      "    if self.dispatch_one_batch(iterator):\n",
      "  File \"C:\\Users\\kiehl\\Anaconda3\\lib\\site-packages\\joblib\\parallel.py\", line 861, in dispatch_one_batch\n",
      "    self._dispatch(tasks)\n",
      "  File \"C:\\Users\\kiehl\\Anaconda3\\lib\\site-packages\\joblib\\parallel.py\", line 779, in _dispatch\n",
      "    job = self._backend.apply_async(batch, callback=cb)\n",
      "  File \"C:\\Users\\kiehl\\Anaconda3\\lib\\site-packages\\joblib\\_parallel_backends.py\", line 208, in apply_async\n",
      "    result = ImmediateResult(func)\n",
      "  File \"C:\\Users\\kiehl\\Anaconda3\\lib\\site-packages\\joblib\\_parallel_backends.py\", line 572, in __init__\n",
      "    self.results = batch()\n",
      "  File \"C:\\Users\\kiehl\\Anaconda3\\lib\\site-packages\\joblib\\parallel.py\", line 262, in __call__\n",
      "    return [func(*args, **kwargs)\n",
      "  File \"C:\\Users\\kiehl\\Anaconda3\\lib\\site-packages\\joblib\\parallel.py\", line 262, in <listcomp>\n",
      "    return [func(*args, **kwargs)\n",
      "  File \"C:\\Users\\kiehl\\Anaconda3\\lib\\site-packages\\sklearn\\utils\\fixes.py\", line 216, in __call__\n",
      "    return self.function(*args, **kwargs)\n",
      "  File \"C:\\Users\\kiehl\\Anaconda3\\lib\\site-packages\\sklearn\\ensemble\\_forest.py\", line 185, in _parallel_build_trees\n",
      "    tree.fit(X, y, sample_weight=curr_sample_weight, check_input=False)\n",
      "  File \"C:\\Users\\kiehl\\Anaconda3\\lib\\site-packages\\sklearn\\tree\\_classes.py\", line 1315, in fit\n",
      "    super().fit(\n",
      "  File \"C:\\Users\\kiehl\\Anaconda3\\lib\\site-packages\\sklearn\\tree\\_classes.py\", line 250, in fit\n",
      "    raise ValueError(\n",
      "ValueError: min_samples_split must be an integer greater than 1 or a float in (0.0, 1.0]; got the integer 1\n",
      "\n",
      "  warnings.warn(some_fits_failed_message, FitFailedWarning)\n",
      "C:\\Users\\kiehl\\Anaconda3\\lib\\site-packages\\sklearn\\model_selection\\_search.py:969: UserWarning: One or more of the test scores are non-finite: [       nan        nan        nan 0.56974007 0.57419643 0.5743003\n",
      " 0.57085631 0.57327269 0.57594112 0.57316738 0.57137057 0.57385819\n",
      " 0.5722256  0.57294652 0.57358492        nan        nan        nan\n",
      " 0.57632606 0.57426721 0.57338432 0.57432719 0.57252386 0.57434432\n",
      " 0.57166875 0.57488501 0.57734201 0.57133177 0.57614174 0.57581738\n",
      "        nan        nan        nan 0.56857348 0.57050933 0.56768336\n",
      " 0.56426376 0.56901655 0.56794765 0.56921422 0.56816563 0.56669021\n",
      " 0.56845906 0.56959049 0.57074193        nan        nan        nan\n",
      " 0.6222182  0.62170088 0.62564067 0.62735791 0.6289338  0.62709987\n",
      " 0.62738037 0.62255226 0.6257407  0.6285342  0.62995078 0.62686234\n",
      "        nan        nan        nan 0.62671518 0.62704451 0.62609315\n",
      " 0.6228735  0.62622158 0.62262377 0.62804583 0.62391198 0.62687294\n",
      " 0.62229715 0.62204796 0.62478599        nan        nan        nan\n",
      " 0.60435918 0.60614722 0.60462155 0.60825339 0.60505794 0.60765678\n",
      " 0.60606918 0.60714627 0.60540541 0.60691746 0.60488087 0.60893786\n",
      "        nan        nan        nan 0.62744892 0.63285413 0.63521465\n",
      " 0.62873234 0.63138963 0.6340737  0.63227046 0.62789569 0.6332477\n",
      " 0.63117959 0.63137397 0.63076277        nan        nan        nan\n",
      " 0.62509991 0.6269733  0.62829727 0.62734529 0.62957948 0.63071356\n",
      " 0.62751692 0.62863691 0.63145941 0.62814645 0.62998278 0.63331622\n",
      "        nan        nan        nan 0.60366494 0.60460062 0.60772762\n",
      " 0.60281642 0.60658402 0.60547578 0.60704791 0.60671981 0.60637935\n",
      " 0.60334752 0.60468405 0.6055727         nan        nan        nan\n",
      " 0.62599159 0.63215652 0.62755389 0.62907891 0.63250157 0.6277419\n",
      " 0.62825075 0.6327867  0.62842983 0.63243695 0.63196183 0.63134273\n",
      "        nan        nan        nan 0.62484853 0.62837998 0.62757374\n",
      " 0.62743014 0.62951712 0.62476112 0.62401233 0.62913478 0.62634356\n",
      " 0.63080739 0.62974757 0.63309121        nan        nan        nan\n",
      " 0.60029198 0.60670033 0.60274703 0.60344162 0.6041455  0.60455708\n",
      " 0.60351166 0.60185671 0.60817243 0.6057159  0.60573099 0.61236555]\n",
      "  warnings.warn(\n"
     ]
    }
   ],
   "source": [
    "rf = RandomForestRegressor()\n",
    "grid = GridSearchCV(rf, param_grid = params, cv = 5, scoring ='r2' )\n",
    "result = grid.fit(X_train, y_train)"
   ]
  },
  {
   "cell_type": "code",
   "execution_count": 66,
   "metadata": {},
   "outputs": [
    {
     "data": {
      "text/plain": [
       "({'max_depth': 20,\n",
       "  'min_samples_leaf': 1,\n",
       "  'min_samples_split': 2,\n",
       "  'n_estimators': 120},\n",
       " 0.6352146450933968)"
      ]
     },
     "execution_count": 66,
     "metadata": {},
     "output_type": "execute_result"
    }
   ],
   "source": [
    "result.best_params_, result.best_score_"
   ]
  },
  {
   "cell_type": "code",
   "execution_count": 72,
   "metadata": {},
   "outputs": [
    {
     "name": "stdout",
     "output_type": "stream",
     "text": [
      "0.37287380861025665\n",
      "0.40429682532675737\n",
      "0.5105283643204281\n",
      "0.46395880488823127\n",
      "0.4134347854018453\n",
      "0.7666983202053571 0.43640663132543145\n"
     ]
    }
   ],
   "source": [
    "seed = 7\n",
    "kfold = KFold(n_splits=5, shuffle=True, random_state=seed).split(X_train)\n",
    "\n",
    "list_pred = []\n",
    "list_val = []\n",
    "\n",
    "for train, test in kfold:\n",
    "    list_pred.append(RandomForestRegressor(max_depth = 20 , min_samples_leaf = 1, min_samples_split = 2, n_estimators =120).fit(X_train[train],y_train[train]).predict(X_train[test]))\n",
    "    list_val.append(y_train[test])\n",
    "    print(r2_score(list_pred[len(list_pred)-1],list_val[len(list_val)-1]))\n",
    "    \n",
    "list_pred = np.concatenate(list_pred)\n",
    "list_val = np.concatenate(list_val)\n",
    "\n",
    "print(\n",
    "    mean_squared_error(list_pred,list_val),\n",
    "    r2_score(list_pred,list_val))"
   ]
  },
  {
   "cell_type": "code",
   "execution_count": 22,
   "metadata": {},
   "outputs": [],
   "source": [
    "import seaborn as sns\n"
   ]
  },
  {
   "cell_type": "code",
   "execution_count": 24,
   "metadata": {
    "scrolled": true
   },
   "outputs": [
    {
     "data": {
      "image/png": "[encoded data removed]",
      "text/plain": [
       "<Figure size 640x480 with 1 Axes>"
      ]
     },
     "metadata": {},
     "output_type": "display_data"
    }
   ],
   "source": [
    "sns.scatterplot(x=list_pred,y=list_val)\n",
    "plt.show()"
   ]
  },
  {
   "cell_type": "markdown",
   "metadata": {},
   "source": [
    "# SVM "
   ]
  },
  {
   "cell_type": "code",
   "execution_count": 34,
   "metadata": {},
   "outputs": [],
   "source": [
    "from sklearn import svm\n",
    "regr = svm.SVR()\n",
    "regrl = svm.LinearSVR()"
   ]
  },
  {
   "cell_type": "code",
   "execution_count": 63,
   "metadata": {},
   "outputs": [
    {
     "name": "stdout",
     "output_type": "stream",
     "text": [
      "2.17262928970345 -1049.5654034110885\n"
     ]
    }
   ],
   "source": [
    "seed = 7\n",
    "kfold = KFold(n_splits=5, shuffle=True, random_state=seed).split(X_train)\n",
    "\n",
    "list_pred = []\n",
    "list_val = []\n",
    "\n",
    "for train, test in kfold:\n",
    "    list_pred.append(regr.fit(X_train[train],y_train[train]).predict(X_train[test]))\n",
    "    list_val.append(y_train[test])\n",
    "    \n",
    "list_pred = np.concatenate(list_pred)\n",
    "list_val = np.concatenate(list_val)\n",
    "\n",
    "print(\n",
    "    mean_squared_error(list_pred,list_val),\n",
    "    r2_score(list_pred,list_val))"
   ]
  },
  {
   "cell_type": "code",
   "execution_count": 38,
   "metadata": {},
   "outputs": [
    {
     "name": "stdout",
     "output_type": "stream",
     "text": [
      "2.12985090973467 -801.4785635804216\n"
     ]
    }
   ],
   "source": [
    "pred = svm.SVR().fit(X_train,y_train).predict(X_test)\n",
    "print(\n",
    "    mean_squared_error(pred,y_test),\n",
    "    r2_score(pred,y_test))"
   ]
  },
  {
   "cell_type": "markdown",
   "metadata": {},
   "source": [
    "# XG boost "
   ]
  },
  {
   "cell_type": "code",
   "execution_count": 98,
   "metadata": {},
   "outputs": [],
   "source": [
    "import xgboost as xgb"
   ]
  },
  {
   "cell_type": "markdown",
   "metadata": {},
   "source": [
    "XGboost : \n",
    "    'regressor__learning_rate' : [0.01, 0.1, 0.5],\n",
    "    'regressor__gamma': [0, 0.5, 1.0],\n",
    "    'regressor__max_depth': [5, 10, 20],\n",
    "    'regressor__min_child_weight' : [1, 5, 10],\n",
    "    'regressor__n_estimators': [50, 100, 1000]"
   ]
  },
  {
   "cell_type": "code",
   "execution_count": 40,
   "metadata": {},
   "outputs": [],
   "source": [
    "# xg_reg = xgb.XGBRegressor(objective ='reg:linear', colsample_bytree = 0.3, learning_rate = 0.1,\n",
    "#                 max_depth = 5, alpha = 10, n_estimators = 10)"
   ]
  },
  {
   "cell_type": "code",
   "execution_count": 104,
   "metadata": {},
   "outputs": [],
   "source": [
    "xg_reg = xgb.XGBRegressor(objective = 'reg:squarederror' ,n_jobs= 6)"
   ]
  },
  {
   "cell_type": "code",
   "execution_count": 105,
   "metadata": {},
   "outputs": [],
   "source": [
    "param_xgb = {\n",
    "    'regressor__learning_rate' : [0.01, 0.1, 0.5],\n",
    "    'regressor__gamma': [0, 0.5, 1.0],\n",
    "    'regressor__max_depth': [5, 10, 20],\n",
    "    'regressor__min_child_weight' : [1, 5, 10],\n",
    "    'regressor__n_estimators': [50, 100, 1000]\n",
    "}"
   ]
  },
  {
   "cell_type": "code",
   "execution_count": 107,
   "metadata": {},
   "outputs": [
    {
     "name": "stdout",
     "output_type": "stream",
     "text": [
      "0.7733677887871019 0.518471300397608\n"
     ]
    },
    {
     "data": {
      "text/plain": [
       "(0.7733677887871019,\n",
       " 0.518471300397608,\n",
       " array([3.0956697, 2.4279904, 3.5552063, ..., 4.0537953, 4.366442 ,\n",
       "        3.988847 ], dtype=float32),\n",
       " array([2.43185743, 4.32134732, 4.78197656, ..., 3.50435547, 4.05577697,\n",
       "        4.49914278]),\n",
       " 0.6692144870758057)"
      ]
     },
     "execution_count": 107,
     "metadata": {},
     "output_type": "execute_result"
    }
   ],
   "source": [
    "ML(xg_reg)"
   ]
  },
  {
   "cell_type": "code",
   "execution_count": 43,
   "metadata": {},
   "outputs": [
    {
     "name": "stdout",
     "output_type": "stream",
     "text": [
      "[11:08:11] WARNING: c:\\users\\dev-admin\\croot2\\xgboost-split_1675461376218\\work\\src\\objective\\regression_obj.cu:213: reg:linear is now deprecated in favor of reg:squarederror.\n"
     ]
    }
   ],
   "source": [
    "# xg_reg.fit(X_train,y_train)\n",
    "\n",
    "# preds = xg_reg.predict(X_test)"
   ]
  },
  {
   "cell_type": "markdown",
   "metadata": {},
   "source": [
    "# LightBoost "
   ]
  },
  {
   "cell_type": "code",
   "execution_count": 49,
   "metadata": {},
   "outputs": [],
   "source": [
    "import lightgbm as lgb"
   ]
  },
  {
   "cell_type": "code",
   "execution_count": 94,
   "metadata": {},
   "outputs": [],
   "source": [
    "lg = lgb.LGBMRegressor(n_jobs=-1)"
   ]
  },
  {
   "cell_type": "code",
   "execution_count": 54,
   "metadata": {},
   "outputs": [],
   "source": [
    "param_lg = {'n_estimators': [80, 100, 120, 150],\n",
    "            'max_depth': [3, 5, 8, 10],\n",
    "            'num_leaves': [6, 8, 10]}"
   ]
  },
  {
   "cell_type": "code",
   "execution_count": 96,
   "metadata": {},
   "outputs": [
    {
     "name": "stdout",
     "output_type": "stream",
     "text": [
      "{'max_depth': 3, 'n_estimators': 150, 'num_leaves': 8}\n",
      "0.7320437432494372 0.48011500501771964\n"
     ]
    },
    {
     "data": {
      "text/plain": [
       "(0.7320437432494372,\n",
       " 0.48011500501771964,\n",
       " array([2.12798625, 2.3067684 , 4.76983983, ..., 4.24691239, 3.95023849,\n",
       "        3.66770904]),\n",
       " array([2.43185743, 4.32134732, 4.78197656, ..., 3.50435547, 4.05577697,\n",
       "        4.49914278]),\n",
       " 0.21941065788269043)"
      ]
     },
     "execution_count": 96,
     "metadata": {},
     "output_type": "execute_result"
    }
   ],
   "source": [
    "ML(lg,param=param_lg)"
   ]
  }
 ],
 "metadata": {
  "kernelspec": {
   "display_name": "Python 3 (ipykernel)",
   "language": "python",
   "name": "python3"
  },
  "language_info": {
   "codemirror_mode": {
    "name": "ipython",
    "version": 3
   },
   "file_extension": ".py",
   "mimetype": "text/x-python",
   "name": "python",
   "nbconvert_exporter": "python",
   "pygments_lexer": "ipython3",
   "version": "3.9.13"
  },
  "toc-autonumbering": true,
  "toc-showcode": false,
  "toc-showmarkdowntxt": true
 },
 "nbformat": 4,
 "nbformat_minor": 4
}
